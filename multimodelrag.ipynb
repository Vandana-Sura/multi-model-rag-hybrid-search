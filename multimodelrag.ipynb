{
 "cells": [
  {
   "cell_type": "markdown",
   "id": "777dc585",
   "metadata": {},
   "source": [
    "Multi Model Rag(Pdf+Images)"
   ]
  },
  {
   "cell_type": "code",
   "execution_count": 1,
   "id": "7aaff9bc",
   "metadata": {},
   "outputs": [
    {
     "name": "stdout",
     "output_type": "stream",
     "text": [
      "Requirement already satisfied: PyMuPDF in c:\\users\\my\\anaconda3\\lib\\site-packages (1.26.3)\n",
      "Note: you may need to restart the kernel to use updated packages.\n"
     ]
    }
   ],
   "source": [
    "pip install PyMuPDF\n"
   ]
  },
  {
   "cell_type": "code",
   "execution_count": 3,
   "id": "ad4dd968",
   "metadata": {},
   "outputs": [
    {
     "name": "stdout",
     "output_type": "stream",
     "text": [
      "Requirement already satisfied: langchain in c:\\users\\my\\anaconda3\\lib\\site-packages (0.3.27)\n",
      "Requirement already satisfied: langchain-core<1.0.0,>=0.3.72 in c:\\users\\my\\anaconda3\\lib\\site-packages (from langchain) (0.3.76)\n",
      "Requirement already satisfied: langchain-text-splitters<1.0.0,>=0.3.9 in c:\\users\\my\\anaconda3\\lib\\site-packages (from langchain) (0.3.9)\n",
      "Requirement already satisfied: langsmith>=0.1.17 in c:\\users\\my\\anaconda3\\lib\\site-packages (from langchain) (0.4.13)\n",
      "Requirement already satisfied: pydantic<3.0.0,>=2.7.4 in c:\\users\\my\\anaconda3\\lib\\site-packages (from langchain) (2.9.1)\n",
      "Requirement already satisfied: SQLAlchemy<3,>=1.4 in c:\\users\\my\\anaconda3\\lib\\site-packages (from langchain) (2.0.30)\n",
      "Requirement already satisfied: requests<3,>=2 in c:\\users\\my\\anaconda3\\lib\\site-packages (from langchain) (2.32.4)\n",
      "Requirement already satisfied: PyYAML>=5.3 in c:\\users\\my\\anaconda3\\lib\\site-packages (from langchain) (6.0.1)\n",
      "Requirement already satisfied: tenacity!=8.4.0,<10.0.0,>=8.1.0 in c:\\users\\my\\anaconda3\\lib\\site-packages (from langchain-core<1.0.0,>=0.3.72->langchain) (8.2.2)\n",
      "Requirement already satisfied: jsonpatch<2.0,>=1.33 in c:\\users\\my\\anaconda3\\lib\\site-packages (from langchain-core<1.0.0,>=0.3.72->langchain) (1.33)\n",
      "Requirement already satisfied: typing-extensions>=4.7 in c:\\users\\my\\anaconda3\\lib\\site-packages (from langchain-core<1.0.0,>=0.3.72->langchain) (4.12.2)\n",
      "Requirement already satisfied: packaging>=23.2 in c:\\users\\my\\anaconda3\\lib\\site-packages (from langchain-core<1.0.0,>=0.3.72->langchain) (24.2)\n",
      "Requirement already satisfied: httpx<1,>=0.23.0 in c:\\users\\my\\anaconda3\\lib\\site-packages (from langsmith>=0.1.17->langchain) (0.27.2)\n",
      "Requirement already satisfied: orjson>=3.9.14 in c:\\users\\my\\anaconda3\\lib\\site-packages (from langsmith>=0.1.17->langchain) (3.10.7)\n",
      "Requirement already satisfied: requests-toolbelt>=1.0.0 in c:\\users\\my\\anaconda3\\lib\\site-packages (from langsmith>=0.1.17->langchain) (1.0.0)\n",
      "Requirement already satisfied: zstandard>=0.23.0 in c:\\users\\my\\anaconda3\\lib\\site-packages (from langsmith>=0.1.17->langchain) (0.23.0)\n",
      "Requirement already satisfied: annotated-types>=0.6.0 in c:\\users\\my\\anaconda3\\lib\\site-packages (from pydantic<3.0.0,>=2.7.4->langchain) (0.6.0)\n",
      "Requirement already satisfied: pydantic-core==2.23.3 in c:\\users\\my\\anaconda3\\lib\\site-packages (from pydantic<3.0.0,>=2.7.4->langchain) (2.23.3)\n",
      "Requirement already satisfied: charset_normalizer<4,>=2 in c:\\users\\my\\anaconda3\\lib\\site-packages (from requests<3,>=2->langchain) (2.0.4)\n",
      "Requirement already satisfied: idna<4,>=2.5 in c:\\users\\my\\anaconda3\\lib\\site-packages (from requests<3,>=2->langchain) (3.7)\n",
      "Requirement already satisfied: urllib3<3,>=1.21.1 in c:\\users\\my\\anaconda3\\lib\\site-packages (from requests<3,>=2->langchain) (2.2.2)\n",
      "Requirement already satisfied: certifi>=2017.4.17 in c:\\users\\my\\anaconda3\\lib\\site-packages (from requests<3,>=2->langchain) (2024.8.30)\n",
      "Requirement already satisfied: greenlet!=0.4.17 in c:\\users\\my\\anaconda3\\lib\\site-packages (from SQLAlchemy<3,>=1.4->langchain) (3.0.1)\n",
      "Requirement already satisfied: anyio in c:\\users\\my\\anaconda3\\lib\\site-packages (from httpx<1,>=0.23.0->langsmith>=0.1.17->langchain) (4.2.0)\n",
      "Requirement already satisfied: httpcore==1.* in c:\\users\\my\\anaconda3\\lib\\site-packages (from httpx<1,>=0.23.0->langsmith>=0.1.17->langchain) (1.0.5)\n",
      "Requirement already satisfied: sniffio in c:\\users\\my\\anaconda3\\lib\\site-packages (from httpx<1,>=0.23.0->langsmith>=0.1.17->langchain) (1.3.0)\n",
      "Requirement already satisfied: h11<0.15,>=0.13 in c:\\users\\my\\anaconda3\\lib\\site-packages (from httpcore==1.*->httpx<1,>=0.23.0->langsmith>=0.1.17->langchain) (0.14.0)\n",
      "Requirement already satisfied: jsonpointer>=1.9 in c:\\users\\my\\anaconda3\\lib\\site-packages (from jsonpatch<2.0,>=1.33->langchain-core<1.0.0,>=0.3.72->langchain) (2.1)\n"
     ]
    }
   ],
   "source": [
    "!pip install langchain"
   ]
  },
  {
   "cell_type": "code",
   "execution_count": 4,
   "id": "e4e301c2",
   "metadata": {},
   "outputs": [
    {
     "name": "stdout",
     "output_type": "stream",
     "text": [
      "Requirement already satisfied: langchain in c:\\users\\my\\anaconda3\\lib\\site-packages (0.3.27)\n",
      "Requirement already satisfied: langchain-core in c:\\users\\my\\anaconda3\\lib\\site-packages (0.3.76)\n",
      "Requirement already satisfied: langchain-text-splitters<1.0.0,>=0.3.9 in c:\\users\\my\\anaconda3\\lib\\site-packages (from langchain) (0.3.9)\n",
      "Requirement already satisfied: langsmith>=0.1.17 in c:\\users\\my\\anaconda3\\lib\\site-packages (from langchain) (0.4.13)\n",
      "Requirement already satisfied: pydantic<3.0.0,>=2.7.4 in c:\\users\\my\\anaconda3\\lib\\site-packages (from langchain) (2.9.1)\n",
      "Requirement already satisfied: SQLAlchemy<3,>=1.4 in c:\\users\\my\\anaconda3\\lib\\site-packages (from langchain) (2.0.30)\n",
      "Requirement already satisfied: requests<3,>=2 in c:\\users\\my\\anaconda3\\lib\\site-packages (from langchain) (2.32.4)\n",
      "Requirement already satisfied: PyYAML>=5.3 in c:\\users\\my\\anaconda3\\lib\\site-packages (from langchain) (6.0.1)\n",
      "Requirement already satisfied: tenacity!=8.4.0,<10.0.0,>=8.1.0 in c:\\users\\my\\anaconda3\\lib\\site-packages (from langchain-core) (8.2.2)\n",
      "Requirement already satisfied: jsonpatch<2.0,>=1.33 in c:\\users\\my\\anaconda3\\lib\\site-packages (from langchain-core) (1.33)\n",
      "Requirement already satisfied: typing-extensions>=4.7 in c:\\users\\my\\anaconda3\\lib\\site-packages (from langchain-core) (4.12.2)\n",
      "Requirement already satisfied: packaging>=23.2 in c:\\users\\my\\anaconda3\\lib\\site-packages (from langchain-core) (24.2)\n",
      "Requirement already satisfied: jsonpointer>=1.9 in c:\\users\\my\\anaconda3\\lib\\site-packages (from jsonpatch<2.0,>=1.33->langchain-core) (2.1)\n",
      "Requirement already satisfied: httpx<1,>=0.23.0 in c:\\users\\my\\anaconda3\\lib\\site-packages (from langsmith>=0.1.17->langchain) (0.27.2)\n",
      "Requirement already satisfied: orjson>=3.9.14 in c:\\users\\my\\anaconda3\\lib\\site-packages (from langsmith>=0.1.17->langchain) (3.10.7)\n",
      "Requirement already satisfied: requests-toolbelt>=1.0.0 in c:\\users\\my\\anaconda3\\lib\\site-packages (from langsmith>=0.1.17->langchain) (1.0.0)\n",
      "Requirement already satisfied: zstandard>=0.23.0 in c:\\users\\my\\anaconda3\\lib\\site-packages (from langsmith>=0.1.17->langchain) (0.23.0)\n",
      "Requirement already satisfied: annotated-types>=0.6.0 in c:\\users\\my\\anaconda3\\lib\\site-packages (from pydantic<3.0.0,>=2.7.4->langchain) (0.6.0)\n",
      "Requirement already satisfied: pydantic-core==2.23.3 in c:\\users\\my\\anaconda3\\lib\\site-packages (from pydantic<3.0.0,>=2.7.4->langchain) (2.23.3)\n",
      "Requirement already satisfied: charset_normalizer<4,>=2 in c:\\users\\my\\anaconda3\\lib\\site-packages (from requests<3,>=2->langchain) (2.0.4)\n",
      "Requirement already satisfied: idna<4,>=2.5 in c:\\users\\my\\anaconda3\\lib\\site-packages (from requests<3,>=2->langchain) (3.7)\n",
      "Requirement already satisfied: urllib3<3,>=1.21.1 in c:\\users\\my\\anaconda3\\lib\\site-packages (from requests<3,>=2->langchain) (2.2.2)\n",
      "Requirement already satisfied: certifi>=2017.4.17 in c:\\users\\my\\anaconda3\\lib\\site-packages (from requests<3,>=2->langchain) (2024.8.30)\n",
      "Requirement already satisfied: greenlet!=0.4.17 in c:\\users\\my\\anaconda3\\lib\\site-packages (from SQLAlchemy<3,>=1.4->langchain) (3.0.1)\n",
      "Requirement already satisfied: anyio in c:\\users\\my\\anaconda3\\lib\\site-packages (from httpx<1,>=0.23.0->langsmith>=0.1.17->langchain) (4.2.0)\n",
      "Requirement already satisfied: httpcore==1.* in c:\\users\\my\\anaconda3\\lib\\site-packages (from httpx<1,>=0.23.0->langsmith>=0.1.17->langchain) (1.0.5)\n",
      "Requirement already satisfied: sniffio in c:\\users\\my\\anaconda3\\lib\\site-packages (from httpx<1,>=0.23.0->langsmith>=0.1.17->langchain) (1.3.0)\n",
      "Requirement already satisfied: h11<0.15,>=0.13 in c:\\users\\my\\anaconda3\\lib\\site-packages (from httpcore==1.*->httpx<1,>=0.23.0->langsmith>=0.1.17->langchain) (0.14.0)\n",
      "Note: you may need to restart the kernel to use updated packages.\n"
     ]
    }
   ],
   "source": [
    "pip install --upgrade langchain langchain-core\n"
   ]
  },
  {
   "cell_type": "code",
   "execution_count": 5,
   "id": "c756f27e",
   "metadata": {},
   "outputs": [
    {
     "name": "stdout",
     "output_type": "stream",
     "text": [
      "Requirement already satisfied: langchain_community in c:\\users\\my\\anaconda3\\lib\\site-packages (0.3.27)\n",
      "Requirement already satisfied: langchain-core<1.0.0,>=0.3.66 in c:\\users\\my\\anaconda3\\lib\\site-packages (from langchain_community) (0.3.76)\n",
      "Requirement already satisfied: langchain<1.0.0,>=0.3.26 in c:\\users\\my\\anaconda3\\lib\\site-packages (from langchain_community) (0.3.27)\n",
      "Requirement already satisfied: SQLAlchemy<3,>=1.4 in c:\\users\\my\\anaconda3\\lib\\site-packages (from langchain_community) (2.0.30)\n",
      "Requirement already satisfied: requests<3,>=2 in c:\\users\\my\\anaconda3\\lib\\site-packages (from langchain_community) (2.32.4)\n",
      "Requirement already satisfied: PyYAML>=5.3 in c:\\users\\my\\anaconda3\\lib\\site-packages (from langchain_community) (6.0.1)\n",
      "Requirement already satisfied: aiohttp<4.0.0,>=3.8.3 in c:\\users\\my\\anaconda3\\lib\\site-packages (from langchain_community) (3.9.5)\n",
      "Requirement already satisfied: tenacity!=8.4.0,<10,>=8.1.0 in c:\\users\\my\\anaconda3\\lib\\site-packages (from langchain_community) (8.2.2)\n",
      "Requirement already satisfied: dataclasses-json<0.7,>=0.5.7 in c:\\users\\my\\anaconda3\\lib\\site-packages (from langchain_community) (0.6.7)\n",
      "Requirement already satisfied: pydantic-settings<3.0.0,>=2.4.0 in c:\\users\\my\\anaconda3\\lib\\site-packages (from langchain_community) (2.10.1)\n",
      "Requirement already satisfied: langsmith>=0.1.125 in c:\\users\\my\\anaconda3\\lib\\site-packages (from langchain_community) (0.4.13)\n",
      "Requirement already satisfied: httpx-sse<1.0.0,>=0.4.0 in c:\\users\\my\\anaconda3\\lib\\site-packages (from langchain_community) (0.4.1)\n",
      "Requirement already satisfied: numpy>=1.26.2 in c:\\users\\my\\anaconda3\\lib\\site-packages (from langchain_community) (1.26.4)\n",
      "Requirement already satisfied: aiosignal>=1.1.2 in c:\\users\\my\\anaconda3\\lib\\site-packages (from aiohttp<4.0.0,>=3.8.3->langchain_community) (1.2.0)\n",
      "Requirement already satisfied: attrs>=17.3.0 in c:\\users\\my\\anaconda3\\lib\\site-packages (from aiohttp<4.0.0,>=3.8.3->langchain_community) (23.1.0)\n",
      "Requirement already satisfied: frozenlist>=1.1.1 in c:\\users\\my\\anaconda3\\lib\\site-packages (from aiohttp<4.0.0,>=3.8.3->langchain_community) (1.4.0)\n",
      "Requirement already satisfied: multidict<7.0,>=4.5 in c:\\users\\my\\anaconda3\\lib\\site-packages (from aiohttp<4.0.0,>=3.8.3->langchain_community) (6.0.4)\n",
      "Requirement already satisfied: yarl<2.0,>=1.0 in c:\\users\\my\\anaconda3\\lib\\site-packages (from aiohttp<4.0.0,>=3.8.3->langchain_community) (1.9.3)\n",
      "Requirement already satisfied: marshmallow<4.0.0,>=3.18.0 in c:\\users\\my\\anaconda3\\lib\\site-packages (from dataclasses-json<0.7,>=0.5.7->langchain_community) (3.26.1)\n",
      "Requirement already satisfied: typing-inspect<1,>=0.4.0 in c:\\users\\my\\anaconda3\\lib\\site-packages (from dataclasses-json<0.7,>=0.5.7->langchain_community) (0.9.0)\n",
      "Requirement already satisfied: langchain-text-splitters<1.0.0,>=0.3.9 in c:\\users\\my\\anaconda3\\lib\\site-packages (from langchain<1.0.0,>=0.3.26->langchain_community) (0.3.9)\n",
      "Requirement already satisfied: pydantic<3.0.0,>=2.7.4 in c:\\users\\my\\anaconda3\\lib\\site-packages (from langchain<1.0.0,>=0.3.26->langchain_community) (2.9.1)\n",
      "Requirement already satisfied: jsonpatch<2.0,>=1.33 in c:\\users\\my\\anaconda3\\lib\\site-packages (from langchain-core<1.0.0,>=0.3.66->langchain_community) (1.33)\n",
      "Requirement already satisfied: typing-extensions>=4.7 in c:\\users\\my\\anaconda3\\lib\\site-packages (from langchain-core<1.0.0,>=0.3.66->langchain_community) (4.12.2)\n",
      "Requirement already satisfied: packaging>=23.2 in c:\\users\\my\\anaconda3\\lib\\site-packages (from langchain-core<1.0.0,>=0.3.66->langchain_community) (24.2)\n",
      "Requirement already satisfied: httpx<1,>=0.23.0 in c:\\users\\my\\anaconda3\\lib\\site-packages (from langsmith>=0.1.125->langchain_community) (0.27.2)\n",
      "Requirement already satisfied: orjson>=3.9.14 in c:\\users\\my\\anaconda3\\lib\\site-packages (from langsmith>=0.1.125->langchain_community) (3.10.7)\n",
      "Requirement already satisfied: requests-toolbelt>=1.0.0 in c:\\users\\my\\anaconda3\\lib\\site-packages (from langsmith>=0.1.125->langchain_community) (1.0.0)\n",
      "Requirement already satisfied: zstandard>=0.23.0 in c:\\users\\my\\anaconda3\\lib\\site-packages (from langsmith>=0.1.125->langchain_community) (0.23.0)\n",
      "Requirement already satisfied: python-dotenv>=0.21.0 in c:\\users\\my\\anaconda3\\lib\\site-packages (from pydantic-settings<3.0.0,>=2.4.0->langchain_community) (1.1.1)\n",
      "Requirement already satisfied: typing-inspection>=0.4.0 in c:\\users\\my\\anaconda3\\lib\\site-packages (from pydantic-settings<3.0.0,>=2.4.0->langchain_community) (0.4.1)\n",
      "Requirement already satisfied: charset_normalizer<4,>=2 in c:\\users\\my\\anaconda3\\lib\\site-packages (from requests<3,>=2->langchain_community) (2.0.4)\n",
      "Requirement already satisfied: idna<4,>=2.5 in c:\\users\\my\\anaconda3\\lib\\site-packages (from requests<3,>=2->langchain_community) (3.7)\n",
      "Requirement already satisfied: urllib3<3,>=1.21.1 in c:\\users\\my\\anaconda3\\lib\\site-packages (from requests<3,>=2->langchain_community) (2.2.2)\n",
      "Requirement already satisfied: certifi>=2017.4.17 in c:\\users\\my\\anaconda3\\lib\\site-packages (from requests<3,>=2->langchain_community) (2024.8.30)\n",
      "Requirement already satisfied: greenlet!=0.4.17 in c:\\users\\my\\anaconda3\\lib\\site-packages (from SQLAlchemy<3,>=1.4->langchain_community) (3.0.1)\n",
      "Requirement already satisfied: anyio in c:\\users\\my\\anaconda3\\lib\\site-packages (from httpx<1,>=0.23.0->langsmith>=0.1.125->langchain_community) (4.2.0)\n",
      "Requirement already satisfied: httpcore==1.* in c:\\users\\my\\anaconda3\\lib\\site-packages (from httpx<1,>=0.23.0->langsmith>=0.1.125->langchain_community) (1.0.5)\n",
      "Requirement already satisfied: sniffio in c:\\users\\my\\anaconda3\\lib\\site-packages (from httpx<1,>=0.23.0->langsmith>=0.1.125->langchain_community) (1.3.0)\n",
      "Requirement already satisfied: h11<0.15,>=0.13 in c:\\users\\my\\anaconda3\\lib\\site-packages (from httpcore==1.*->httpx<1,>=0.23.0->langsmith>=0.1.125->langchain_community) (0.14.0)\n",
      "Requirement already satisfied: jsonpointer>=1.9 in c:\\users\\my\\anaconda3\\lib\\site-packages (from jsonpatch<2.0,>=1.33->langchain-core<1.0.0,>=0.3.66->langchain_community) (2.1)\n",
      "Requirement already satisfied: annotated-types>=0.6.0 in c:\\users\\my\\anaconda3\\lib\\site-packages (from pydantic<3.0.0,>=2.7.4->langchain<1.0.0,>=0.3.26->langchain_community) (0.6.0)\n",
      "Requirement already satisfied: pydantic-core==2.23.3 in c:\\users\\my\\anaconda3\\lib\\site-packages (from pydantic<3.0.0,>=2.7.4->langchain<1.0.0,>=0.3.26->langchain_community) (2.23.3)\n",
      "Requirement already satisfied: mypy-extensions>=0.3.0 in c:\\users\\my\\anaconda3\\lib\\site-packages (from typing-inspect<1,>=0.4.0->dataclasses-json<0.7,>=0.5.7->langchain_community) (1.0.0)\n"
     ]
    }
   ],
   "source": [
    "!pip install langchain_community"
   ]
  },
  {
   "cell_type": "code",
   "execution_count": 6,
   "id": "e6caa7c4",
   "metadata": {},
   "outputs": [],
   "source": [
    "import fitz  # PyMuPDF\n",
    "from langchain_core.documents import Document\n",
    "from transformers import CLIPProcessor, CLIPModel\n",
    "from PIL import Image\n",
    "import torch\n",
    "import numpy as np\n",
    "from langchain.chat_models import init_chat_model\n",
    "from langchain.prompts import PromptTemplate\n",
    "from langchain.schema.messages import HumanMessage\n",
    "from sklearn.metrics.pairwise import cosine_similarity\n",
    "import os\n",
    "import base64\n",
    "import io\n",
    "from langchain.text_splitter import RecursiveCharacterTextSplitter\n",
    "from langchain_community.vectorstores import FAISS\n"
   ]
  },
  {
   "cell_type": "code",
   "execution_count": 7,
   "id": "33b35c3a",
   "metadata": {},
   "outputs": [
    {
     "name": "stdout",
     "output_type": "stream",
     "text": [
      "Requirement already satisfied: grpcio in c:\\users\\my\\anaconda3\\lib\\site-packages (1.75.0)\n",
      "Requirement already satisfied: typing-extensions~=4.12 in c:\\users\\my\\anaconda3\\lib\\site-packages (from grpcio) (4.12.2)\n",
      "Note: you may need to restart the kernel to use updated packages.\n"
     ]
    }
   ],
   "source": [
    "pip install grpcio\n"
   ]
  },
  {
   "cell_type": "code",
   "execution_count": 8,
   "id": "9c060c40",
   "metadata": {},
   "outputs": [],
   "source": [
    "import google.generativeai as genai"
   ]
  },
  {
   "cell_type": "code",
   "execution_count": 9,
   "id": "f0e6715f",
   "metadata": {},
   "outputs": [
    {
     "name": "stderr",
     "output_type": "stream",
     "text": [
      "c:\\Users\\my\\anaconda3\\Lib\\site-packages\\transformers\\tokenization_utils_base.py:1617: FutureWarning: `clean_up_tokenization_spaces` was not set. It will be set to `True` by default. This behavior will be deprecated in transformers v4.45, and will be then set to `False` by default. For more details check this issue: https://github.com/huggingface/transformers/issues/31884\n",
      "  warnings.warn(\n"
     ]
    },
    {
     "data": {
      "text/plain": [
       "CLIPModel(\n",
       "  (text_model): CLIPTextTransformer(\n",
       "    (embeddings): CLIPTextEmbeddings(\n",
       "      (token_embedding): Embedding(49408, 512)\n",
       "      (position_embedding): Embedding(77, 512)\n",
       "    )\n",
       "    (encoder): CLIPEncoder(\n",
       "      (layers): ModuleList(\n",
       "        (0-11): 12 x CLIPEncoderLayer(\n",
       "          (self_attn): CLIPSdpaAttention(\n",
       "            (k_proj): Linear(in_features=512, out_features=512, bias=True)\n",
       "            (v_proj): Linear(in_features=512, out_features=512, bias=True)\n",
       "            (q_proj): Linear(in_features=512, out_features=512, bias=True)\n",
       "            (out_proj): Linear(in_features=512, out_features=512, bias=True)\n",
       "          )\n",
       "          (layer_norm1): LayerNorm((512,), eps=1e-05, elementwise_affine=True)\n",
       "          (mlp): CLIPMLP(\n",
       "            (activation_fn): QuickGELUActivation()\n",
       "            (fc1): Linear(in_features=512, out_features=2048, bias=True)\n",
       "            (fc2): Linear(in_features=2048, out_features=512, bias=True)\n",
       "          )\n",
       "          (layer_norm2): LayerNorm((512,), eps=1e-05, elementwise_affine=True)\n",
       "        )\n",
       "      )\n",
       "    )\n",
       "    (final_layer_norm): LayerNorm((512,), eps=1e-05, elementwise_affine=True)\n",
       "  )\n",
       "  (vision_model): CLIPVisionTransformer(\n",
       "    (embeddings): CLIPVisionEmbeddings(\n",
       "      (patch_embedding): Conv2d(3, 768, kernel_size=(32, 32), stride=(32, 32), bias=False)\n",
       "      (position_embedding): Embedding(50, 768)\n",
       "    )\n",
       "    (pre_layrnorm): LayerNorm((768,), eps=1e-05, elementwise_affine=True)\n",
       "    (encoder): CLIPEncoder(\n",
       "      (layers): ModuleList(\n",
       "        (0-11): 12 x CLIPEncoderLayer(\n",
       "          (self_attn): CLIPSdpaAttention(\n",
       "            (k_proj): Linear(in_features=768, out_features=768, bias=True)\n",
       "            (v_proj): Linear(in_features=768, out_features=768, bias=True)\n",
       "            (q_proj): Linear(in_features=768, out_features=768, bias=True)\n",
       "            (out_proj): Linear(in_features=768, out_features=768, bias=True)\n",
       "          )\n",
       "          (layer_norm1): LayerNorm((768,), eps=1e-05, elementwise_affine=True)\n",
       "          (mlp): CLIPMLP(\n",
       "            (activation_fn): QuickGELUActivation()\n",
       "            (fc1): Linear(in_features=768, out_features=3072, bias=True)\n",
       "            (fc2): Linear(in_features=3072, out_features=768, bias=True)\n",
       "          )\n",
       "          (layer_norm2): LayerNorm((768,), eps=1e-05, elementwise_affine=True)\n",
       "        )\n",
       "      )\n",
       "    )\n",
       "    (post_layernorm): LayerNorm((768,), eps=1e-05, elementwise_affine=True)\n",
       "  )\n",
       "  (visual_projection): Linear(in_features=768, out_features=512, bias=False)\n",
       "  (text_projection): Linear(in_features=512, out_features=512, bias=False)\n",
       ")"
      ]
     },
     "execution_count": 9,
     "metadata": {},
     "output_type": "execute_result"
    }
   ],
   "source": [
    "## CLIP MODEL\n",
    "import os\n",
    "from dotenv import load_dotenv\n",
    "load_dotenv()\n",
    "\n",
    "# set the environment\n",
    "os.environ[\"GEMINI_API_KEY\"] = os.getenv(\"GEMINI_API_KEY\")\n",
    "model = genai.GenerativeModel(\"gemini-1.5-flash\")\n",
    "\n",
    "## initialize CLIP model for unified text and image embeddings\n",
    "## this model is responsible for generating embeddings for both text and images\n",
    "clip_model= CLIPModel.from_pretrained(\"openai/clip-vit-base-patch32\")\n",
    "clip_processor = CLIPProcessor.from_pretrained(\"openai/clip-vit-base-patch32\")\n",
    "clip_model.eval()  # Set the model to evaluation mode"
   ]
  },
  {
   "cell_type": "code",
   "execution_count": 10,
   "id": "ccb70f9b",
   "metadata": {},
   "outputs": [],
   "source": [
    "### Embedding functions\n",
    "def embed_image(image_data):\n",
    "    \"\"\"Embed image using CLIP\"\"\"\n",
    "    if isinstance(image_data, str):  # If image is given aspath\n",
    "        image = Image.open(image_data).convert(\"RGB\")\n",
    "    else:  # If PIL Image(if it is image or base64 data)\n",
    "        image = image_data\n",
    "    \n",
    "    inputs=clip_processor(images=image,return_tensors=\"pt\")# Process the image for CLIP and convert to tensors\n",
    "    with torch.no_grad():\n",
    "        features = clip_model.get_image_features(**inputs)\n",
    "        # Normalize embeddings to unit vector,every image dimensions will be diffrent we are normalizing it to unit vector\n",
    "        features = features / features.norm(dim=-1, keepdim=True)\n",
    "        return features.squeeze().numpy()# Convert to numpy array for consistency with text embeddings\n",
    "    \n",
    "def embed_text(text):\n",
    "    \"\"\"Embed text using CLIP.\"\"\"\n",
    "    inputs = clip_processor(\n",
    "        text=text, \n",
    "        return_tensors=\"pt\", \n",
    "        padding=True,\n",
    "        truncation=True,\n",
    "        max_length=77  # CLIP's max token length \n",
    "    )\n",
    "    with torch.no_grad():\n",
    "        features = clip_model.get_text_features(**inputs)\n",
    "        # Normalize embeddings\n",
    "        features = features / features.norm(dim=-1, keepdim=True)\n",
    "        return features.squeeze().numpy()\n"
   ]
  },
  {
   "cell_type": "code",
   "execution_count": 11,
   "id": "0953d368",
   "metadata": {},
   "outputs": [],
   "source": [
    "## Process PDF\n",
    "pdf_path=\"C:\\\\Users\\\\my\\\\Downloads\\\\multimodal_sample.pdf\"\n",
    "doc=fitz.open(pdf_path)\n",
    "# Storage for all documents and embeddings\n",
    "all_docs = []\n",
    "all_embeddings = []\n",
    "image_data_store = {}  # Store actual image data for LLM\n",
    "\n",
    "# Text splitter\n",
    "splitter = RecursiveCharacterTextSplitter(chunk_size=500, chunk_overlap=100)\n"
   ]
  },
  {
   "cell_type": "code",
   "execution_count": 12,
   "id": "e66ad1b8",
   "metadata": {},
   "outputs": [
    {
     "data": {
      "text/plain": [
       "Document('C:\\Users\\my\\Downloads\\multimodal_sample.pdf')"
      ]
     },
     "execution_count": 12,
     "metadata": {},
     "output_type": "execute_result"
    }
   ],
   "source": [
    "\n",
    "doc"
   ]
  },
  {
   "cell_type": "code",
   "execution_count": 13,
   "id": "5627ef62",
   "metadata": {},
   "outputs": [],
   "source": [
    "# In the below codes,we are processing the text and images in the pdf document and then creating chunks of text and images,and then embedding them using CLIP for retrieval of each chunk.\n",
    "# and we will store the image data as base64 for later use with gemini-1.5-flash\n",
    "for i,page in enumerate(doc):\n",
    "    ## process text\n",
    "    text=page.get_text()\n",
    "    if text.strip():# remove empty text pages\n",
    "        ##create temporary document for splitting\n",
    "        temp_doc = Document(page_content=text, metadata={\"page\": i, \"type\": \"text\"})\n",
    "        text_chunks = splitter.split_documents([temp_doc])\n",
    "\n",
    "        #Embed each chunk using CLIP\n",
    "        for chunk in text_chunks:\n",
    "            embedding = embed_text(chunk.page_content)\n",
    "            all_embeddings.append(embedding)\n",
    "            all_docs.append(chunk)\n",
    "\n",
    "\n",
    "\n",
    "    ## process images\n",
    "    ##Three Important Actions:\n",
    "\n",
    "    ##Convert PDF image to PIL format\n",
    "    ##Store as base64 for GPT-4V (which needs base64 images)\n",
    "    ##Create CLIP embedding for retrieval\n",
    "\n",
    "    for img_index, img in enumerate(page.get_images(full=True)):\n",
    "        try:\n",
    "            xref = img[0]\n",
    "            base_image = doc.extract_image(xref)\n",
    "            image_bytes = base_image[\"image\"]\n",
    "            \n",
    "            # Convert to PIL Image\n",
    "            pil_image = Image.open(io.BytesIO(image_bytes)).convert(\"RGB\")\n",
    "            \n",
    "            # Create unique identifier\n",
    "            image_id = f\"page_{i}_img_{img_index}\"# Unique ID for each image based on page and index\n",
    "            \n",
    "            # Store image as base64 for later use with gemini-1.5-flash\n",
    "            buffered = io.BytesIO()\n",
    "            pil_image.save(buffered, format=\"PNG\")\n",
    "            img_base64 = base64.b64encode(buffered.getvalue()).decode()\n",
    "            image_data_store[image_id] = img_base64\n",
    "            \n",
    "            # Embed image using CLIP\n",
    "            embedding = embed_image(pil_image)\n",
    "            all_embeddings.append(embedding)\n",
    "            \n",
    "            # Create document for image\n",
    "            image_doc = Document(\n",
    "                page_content=f\"[Image: {image_id}]\",\n",
    "                metadata={\"page\": i, \"type\": \"image\", \"image_id\": image_id}\n",
    "            )\n",
    "            all_docs.append(image_doc)\n",
    "            \n",
    "        except Exception as e:\n",
    "            print(f\"Error processing image {img_index} on page {i}: {e}\")\n",
    "            continue\n",
    "\n",
    "doc.close()\n"
   ]
  },
  {
   "cell_type": "code",
   "execution_count": 14,
   "id": "e092e8d6",
   "metadata": {},
   "outputs": [
    {
     "data": {
      "text/plain": [
       "[array([-2.67246389e-03,  1.28299538e-02, -5.18313907e-02,  4.14879471e-02,\n",
       "        -2.33942270e-02, -7.55863590e-03, -3.67659368e-02,  1.19710743e-01,\n",
       "         8.52081031e-02,  2.05426919e-03, -1.11534707e-02, -1.29592344e-02,\n",
       "         5.25014661e-02, -3.65395262e-03,  4.76078540e-02,  1.58372913e-02,\n",
       "         2.03388222e-02,  4.35362346e-02, -3.29168839e-03,  2.03181524e-02,\n",
       "         1.88023748e-03, -4.23493721e-02,  5.44101652e-03,  3.70935909e-02,\n",
       "        -1.65623091e-02,  6.48648385e-03, -4.78012115e-02,  8.67485069e-03,\n",
       "         5.88859469e-02, -3.21393870e-02,  4.32440080e-02,  9.65301227e-03,\n",
       "        -4.47925227e-03, -1.94858033e-02, -3.63502689e-02, -1.23471674e-02,\n",
       "        -2.17929296e-02, -1.99016202e-02,  8.09619948e-02, -3.32986712e-02,\n",
       "        -2.38901097e-02, -3.96138914e-02, -1.27280056e-02,  3.50381061e-02,\n",
       "        -2.52217092e-02,  2.00030603e-03,  1.49660362e-02, -2.31976788e-02,\n",
       "        -6.86791390e-02, -5.25758544e-04, -2.22545750e-02, -1.04103908e-02,\n",
       "        -1.96115281e-02, -5.11167459e-02, -3.00412793e-02, -4.71472405e-02,\n",
       "        -6.60406798e-02, -6.53185369e-03,  4.47770096e-02,  5.17136883e-03,\n",
       "        -2.09415928e-02,  1.23684586e-03,  2.28888411e-02, -1.85612857e-03,\n",
       "        -7.21751107e-03,  7.72090629e-02, -4.45430502e-02,  1.07155815e-02,\n",
       "        -1.00543899e-02,  2.43769791e-02, -5.69796339e-02,  3.43470089e-02,\n",
       "        -4.38812263e-02, -4.87334393e-02,  1.07071502e-02, -4.02079709e-03,\n",
       "        -4.04055677e-02, -1.38860801e-02,  7.36657204e-03, -1.29188811e-02,\n",
       "         1.98347867e-02,  5.15974052e-02,  1.53137380e-02,  6.00985587e-02,\n",
       "         2.91914809e-02,  2.13116538e-02,  1.05796736e-02, -1.75737552e-02,\n",
       "        -1.27161602e-02,  1.49260117e-02, -3.67730707e-02,  2.80872062e-02,\n",
       "        -7.37116439e-03, -3.20464559e-02, -6.50108829e-02, -2.11241748e-02,\n",
       "         1.02156298e-02,  1.08291730e-02,  2.33738348e-02, -3.79536077e-02,\n",
       "        -2.52679834e-04,  1.23480475e-02,  4.79919510e-03,  1.14297774e-03,\n",
       "         1.29668964e-02, -1.79976672e-02, -6.43284991e-02, -2.44849548e-02,\n",
       "        -5.11865802e-02,  4.14218865e-02,  2.92939097e-02, -1.51848361e-01,\n",
       "         4.36055101e-02,  3.35990288e-03, -1.57336984e-02, -1.68261547e-02,\n",
       "        -4.11889628e-02, -4.19662111e-02,  3.85782346e-02,  2.93741915e-02,\n",
       "         1.88560672e-02,  6.75269365e-02, -7.35579664e-03,  8.21795966e-03,\n",
       "         4.07199860e-02,  1.03858588e-02, -2.17650924e-02,  5.34508638e-02,\n",
       "        -1.53584806e-02, -2.10202355e-02, -1.74071528e-02, -3.29134390e-02,\n",
       "         1.69049799e-02,  4.25002068e-01, -4.37945165e-02,  4.46007680e-03,\n",
       "         1.76204722e-02, -1.57659240e-02, -5.26641682e-02,  5.28488941e-02,\n",
       "         1.84012868e-03, -3.39381024e-02, -1.30729293e-02, -3.59010883e-02,\n",
       "         3.76182026e-03,  3.87275219e-02, -2.52380036e-02, -1.17168995e-02,\n",
       "        -1.85121000e-02, -1.07054897e-02,  6.98607415e-03,  4.01850641e-02,\n",
       "         6.46593794e-02, -4.49307123e-03, -4.05047759e-02, -6.70560598e-02,\n",
       "        -6.74298555e-02,  6.93299295e-03,  3.56784202e-02, -2.30640154e-02,\n",
       "         1.13911266e-02,  4.64893924e-03, -4.67325281e-03, -2.93388274e-02,\n",
       "         2.70006005e-02,  2.80503351e-02,  1.54877836e-02,  4.98288870e-02,\n",
       "         1.75898324e-03,  1.59470625e-02, -1.87687464e-02,  2.38400139e-02,\n",
       "        -3.52132842e-02, -5.26169240e-02,  2.41551623e-02, -3.68120931e-02,\n",
       "        -2.27651168e-02, -1.65995397e-02,  6.62984103e-02,  4.72906493e-02,\n",
       "        -3.74228358e-02,  4.02232856e-02, -4.16416638e-02,  5.67453448e-03,\n",
       "         6.06894195e-02, -2.65664794e-02,  4.06133756e-02,  3.00408602e-02,\n",
       "         7.32572190e-03,  7.61869457e-03,  4.46414128e-02,  7.99624901e-03,\n",
       "         3.42843048e-02,  3.69458757e-02, -3.14736366e-02,  5.91586158e-02,\n",
       "        -1.93830971e-02,  6.43222407e-02,  3.22228782e-02, -6.08223537e-03,\n",
       "        -3.56881152e-04,  9.86460503e-03, -1.57797318e-02,  3.34350131e-02,\n",
       "        -4.46306961e-03, -1.63689349e-03,  4.39812504e-02, -2.97544170e-02,\n",
       "        -5.51466122e-02, -1.35631412e-02, -4.74109016e-02, -1.53332567e-02,\n",
       "         1.75195746e-02, -3.07431053e-02, -6.16585277e-02, -1.85417174e-03,\n",
       "        -7.01820804e-03,  2.12448966e-02, -2.42549856e-03, -5.68780908e-03,\n",
       "         7.10657761e-02, -8.37230217e-03, -2.79168747e-02,  2.05669794e-02,\n",
       "         1.80451805e-03,  2.59759482e-02, -1.15978746e-02,  1.05833355e-02,\n",
       "         6.48899004e-02, -1.04814125e-02,  8.43627902e-04, -8.50318745e-03,\n",
       "        -5.45837805e-02, -5.02442233e-02, -2.42582224e-02, -4.58891802e-02,\n",
       "        -2.73674577e-02, -3.71859930e-02, -1.69388372e-02,  3.86057375e-03,\n",
       "        -1.51374598e-03,  2.32303813e-02, -8.20589717e-03, -5.83863992e-04,\n",
       "        -3.10660875e-03,  4.16649785e-03,  1.92136168e-02, -3.45781334e-02,\n",
       "         1.72270332e-02, -1.64894126e-02, -5.55122830e-03, -1.03297466e-02,\n",
       "         3.63707319e-02, -8.18510726e-03, -1.89416937e-03,  2.80163717e-02,\n",
       "        -5.14980704e-02,  7.25948736e-02, -2.09429581e-02, -2.51389258e-02,\n",
       "        -2.79840245e-03, -1.17757032e-02, -3.84837016e-02,  2.46885773e-02,\n",
       "        -7.74490880e-03, -2.22943723e-02,  4.15773392e-02,  7.26592168e-02,\n",
       "         4.90002446e-02, -4.25625183e-02, -3.42780240e-02,  1.13822538e-02,\n",
       "         1.28216129e-02,  3.65283936e-02, -7.14555308e-02,  2.35049408e-02,\n",
       "         2.21516658e-02,  1.25494897e-02,  3.66669707e-02, -7.28754001e-03,\n",
       "         2.29847934e-02, -1.54457297e-02,  1.78449438e-03, -1.90552939e-02,\n",
       "         4.36997321e-03, -7.02112447e-03,  1.12454463e-02, -8.95216409e-03,\n",
       "         3.34547088e-02,  4.76906635e-02, -8.17533582e-02, -2.05467623e-02,\n",
       "         1.26276491e-02,  2.46593375e-02, -2.34584808e-02,  2.30956301e-02,\n",
       "         4.73868009e-03, -4.06231508e-02, -5.14063565e-03, -5.11263963e-03,\n",
       "        -1.87988188e-02, -9.51304380e-03, -4.06610370e-02, -5.94675867e-03,\n",
       "        -1.70053989e-02,  1.50673036e-02,  2.66338792e-02,  5.69826039e-03,\n",
       "         1.17725115e-02,  5.24607040e-02,  1.03016412e-02, -1.11168297e-02,\n",
       "         4.26219851e-01,  9.18330532e-03, -2.24645287e-02,  2.56885633e-05,\n",
       "         2.53463723e-02,  1.10830809e-03,  1.99251026e-02, -1.99981593e-02,\n",
       "        -4.37211767e-02,  3.78218703e-02, -2.89321505e-02, -5.03922813e-02,\n",
       "        -1.59865674e-02, -7.98651297e-03, -6.10551834e-02, -5.79015911e-02,\n",
       "         3.64042036e-02,  1.32154435e-01,  2.63348930e-02, -1.76308409e-03,\n",
       "        -1.95034053e-02, -7.45862490e-03,  3.09366826e-02, -7.06169978e-02,\n",
       "        -2.92609632e-02,  3.19207199e-02, -4.12233407e-03, -1.22666720e-03,\n",
       "         1.29280158e-03,  1.08487932e-02,  3.70535403e-02,  2.48648692e-02,\n",
       "         5.92989363e-02, -1.38130384e-02, -2.59326454e-02,  1.89559590e-02,\n",
       "        -1.21581862e-02, -1.44583611e-02,  4.56414148e-02, -1.11835143e-02,\n",
       "        -2.17036065e-02, -1.99639965e-02, -3.57391164e-02, -5.62390499e-02,\n",
       "        -3.62788849e-02,  2.04108143e-03, -6.21683616e-03,  2.86479201e-03,\n",
       "         2.45198328e-02, -2.52743438e-02, -1.87305026e-02, -4.26105037e-02,\n",
       "        -7.79901370e-02,  3.04665547e-02,  2.10640095e-02,  7.06648827e-02,\n",
       "         1.94357075e-02,  6.74400628e-02, -3.53914090e-02,  1.65051520e-02,\n",
       "         3.67444637e-03,  1.81801729e-02,  3.24926600e-02,  7.36143440e-02,\n",
       "         2.41952408e-02, -5.57403415e-02,  5.82811683e-02, -4.75137457e-02,\n",
       "         1.36917131e-02, -4.21428755e-02,  5.79718947e-02, -1.29637839e-02,\n",
       "        -3.83988135e-02,  8.61266181e-02,  7.02567622e-02,  4.58451035e-03,\n",
       "        -2.20486857e-02,  3.03836633e-02,  2.21410859e-02, -1.06178653e-04,\n",
       "         2.45712604e-02,  4.81937313e-03,  8.94928649e-02,  4.47986871e-02,\n",
       "        -5.43402359e-02,  1.29984720e-02, -7.96519686e-03,  5.46420589e-02,\n",
       "         4.41766828e-02,  6.39597233e-03, -8.61337967e-03, -5.03848605e-02,\n",
       "        -1.96266286e-02, -7.09272474e-02, -3.81454751e-02,  2.60177795e-02,\n",
       "        -2.14515906e-02,  1.67376827e-03, -3.15810926e-02, -1.01632169e-02,\n",
       "         5.47311902e-02, -3.02973557e-02,  7.97359180e-03, -3.90923694e-02,\n",
       "        -1.47981094e-02, -1.64482854e-02, -1.83398072e-02, -4.25217561e-02,\n",
       "         5.81512600e-02, -6.97389245e-02, -5.11610731e-02, -5.93192838e-02,\n",
       "         2.87116338e-02, -3.98670211e-02, -1.55106969e-02, -6.82012038e-03,\n",
       "        -6.87440634e-02, -1.56711712e-02, -8.30469944e-04,  5.69928922e-02,\n",
       "         9.76892840e-03,  1.99994743e-02, -3.99629809e-02, -2.07551382e-03,\n",
       "         7.32864207e-03, -8.19048437e-04, -3.02243754e-02,  3.75216156e-02,\n",
       "        -3.09377722e-02, -9.52288415e-03,  4.03511301e-02, -3.51578034e-02,\n",
       "        -4.35719118e-02,  1.54990284e-03,  2.40377355e-02, -1.07403276e-02,\n",
       "        -2.14403868e-02, -3.50492261e-02, -6.07150011e-02,  5.72838727e-03,\n",
       "        -2.99396813e-02, -9.97063820e-04,  1.78252440e-02, -3.99326421e-02,\n",
       "        -4.67348546e-02,  1.17538795e-02,  6.69429544e-03,  1.21372491e-02,\n",
       "         2.07599737e-02,  7.66249746e-03,  3.38403787e-03, -4.85173389e-02,\n",
       "         5.47078364e-02, -1.01764258e-02, -4.31974381e-02,  2.08097440e-03,\n",
       "         4.48220782e-02, -3.24082077e-02,  2.62965318e-02, -2.22246610e-02,\n",
       "        -1.57362246e-03, -3.87509838e-02, -2.12444812e-02, -2.06599087e-02,\n",
       "        -7.92946853e-03, -5.09926043e-02,  1.86651833e-02, -7.98922330e-02,\n",
       "        -9.26912017e-03, -8.15474242e-02, -7.10682012e-03,  6.17293231e-02,\n",
       "         5.66982590e-02, -6.17760839e-03, -8.92665312e-02, -2.18616314e-02,\n",
       "        -1.76050123e-02,  2.18748897e-02,  5.68495952e-02, -4.83409129e-03,\n",
       "         2.70048454e-02,  1.00954629e-01,  1.54862376e-02,  4.39982228e-02,\n",
       "         8.52169283e-03,  1.52394138e-02, -1.68981683e-02, -3.72864120e-02,\n",
       "        -4.72998098e-02, -4.71987389e-02, -1.83405671e-02,  6.12210184e-02,\n",
       "         4.89988029e-02,  2.21092459e-02, -4.09185775e-02,  2.38485401e-03,\n",
       "         1.40488716e-02, -3.85086471e-03,  2.97771767e-02, -1.06838699e-04],\n",
       "       dtype=float32),\n",
       " array([ 1.73234381e-02, -1.32768918e-02, -2.42703017e-02,  3.84329483e-02,\n",
       "         1.08081773e-02, -5.86464256e-02,  2.29126420e-02,  6.74869195e-02,\n",
       "         4.06084731e-02,  1.29939138e-03,  4.29863902e-03, -2.49145599e-03,\n",
       "        -5.68564460e-02, -2.10358575e-02,  3.03447843e-02, -1.62467994e-02,\n",
       "         2.49860603e-02, -4.18760441e-03, -1.45019526e-02, -1.03967767e-02,\n",
       "         1.44382641e-02,  9.27791372e-03,  3.10424678e-02, -2.87952763e-03,\n",
       "         1.45214200e-02,  3.06813717e-02, -6.94431216e-02,  4.24872525e-03,\n",
       "         2.95645334e-02, -3.61431204e-02,  9.63678304e-03,  1.62328929e-02,\n",
       "         2.33894233e-02,  1.11387521e-02,  4.35177982e-03,  2.09859456e-03,\n",
       "         7.63512799e-04,  8.88343342e-03,  2.59090960e-03, -1.11683145e-01,\n",
       "        -2.35922672e-02, -2.17377348e-03, -1.86665151e-02,  2.37778742e-02,\n",
       "        -1.48263965e-02, -2.55657118e-02, -2.96969875e-03, -8.63735657e-03,\n",
       "         7.52160372e-03, -1.19851939e-02,  3.99881601e-03, -1.12456037e-02,\n",
       "        -7.14541506e-03, -3.29842828e-02, -2.20872555e-03, -9.74049617e-04,\n",
       "        -1.50438184e-02,  1.07568949e-02,  1.24463765e-02,  2.42400467e-02,\n",
       "         8.47554358e-04,  3.10215109e-04, -3.65618872e-03, -1.26145333e-02,\n",
       "         9.12840012e-03, -1.73663441e-03, -2.20066644e-02,  1.32873422e-02,\n",
       "        -1.30774882e-02,  3.81291914e-03, -2.49434616e-02,  9.97178536e-03,\n",
       "         2.33864337e-02, -4.63878550e-03, -4.80143761e-04,  1.14333294e-02,\n",
       "        -5.71449869e-04, -1.58871096e-02, -6.70709927e-03, -7.78361186e-02,\n",
       "        -2.13615447e-02, -3.01873814e-02,  3.11304652e-03,  3.90019082e-02,\n",
       "        -2.02592816e-02,  4.29196991e-02,  1.76692847e-02, -1.85818002e-02,\n",
       "         2.14766059e-02, -1.23277754e-02, -2.82176938e-02, -1.10760061e-02,\n",
       "        -7.43468285e-01,  3.14509533e-02,  7.19555560e-03, -5.90758538e-03,\n",
       "         1.93705577e-02, -1.50000453e-02, -9.10257630e-04, -3.01336218e-02,\n",
       "         1.69085767e-02, -2.04979666e-02,  2.76833028e-02,  4.59229900e-03,\n",
       "         4.31412086e-02,  8.78549553e-03, -2.39554405e-01,  5.29537676e-03,\n",
       "         2.03203037e-02,  1.23221520e-02, -2.91768275e-03, -5.68720847e-02,\n",
       "        -3.19049135e-02, -2.09228676e-02, -1.45951444e-02,  4.48067149e-04,\n",
       "        -1.16884839e-02, -8.78875703e-03,  4.10810811e-03, -7.82862213e-03,\n",
       "        -1.45864580e-02,  4.38219793e-02, -1.50582958e-02,  2.41901595e-02,\n",
       "         1.22709535e-02, -3.96705838e-03, -2.51476318e-02,  1.21564511e-02,\n",
       "        -6.43813377e-03, -1.45540964e-02,  4.50946353e-02, -7.51871103e-03,\n",
       "         7.71586783e-03,  9.15406793e-02,  7.54819764e-03,  5.00936899e-03,\n",
       "         1.58454813e-02, -3.63432691e-02, -2.68157981e-02,  8.72424711e-03,\n",
       "        -2.07258482e-02, -5.39550334e-02,  5.42288832e-03,  6.14287611e-03,\n",
       "        -1.72426719e-02,  4.78914328e-04, -1.68989506e-02,  2.36721970e-02,\n",
       "        -2.18698382e-03, -4.45316024e-02,  2.08612848e-02, -1.99679490e-02,\n",
       "         3.94839980e-02, -2.14489773e-02, -9.52544063e-03, -3.73376794e-02,\n",
       "        -2.15380900e-02, -3.08294920e-03,  2.03904267e-02,  1.03682512e-02,\n",
       "         3.12500857e-02, -2.77675968e-03, -3.53350006e-02, -4.32231873e-02,\n",
       "         3.00411545e-02, -1.65648537e-03,  2.29017227e-03,  1.91441551e-02,\n",
       "        -4.28953161e-03,  2.16600019e-02, -4.32143360e-02, -6.89831143e-03,\n",
       "        -1.11628268e-02, -1.96518563e-03, -1.10078789e-02, -2.72619873e-02,\n",
       "        -1.12970909e-02, -2.41885465e-02,  6.89322427e-02,  3.27075645e-02,\n",
       "        -1.93931663e-03, -2.95470916e-02, -1.56383570e-02, -4.19401377e-03,\n",
       "        -2.04448099e-03, -4.19641659e-03,  2.13772245e-02, -1.34303179e-02,\n",
       "         4.95406508e-04,  4.79387492e-03,  3.11526880e-02,  1.97138675e-02,\n",
       "         2.88091227e-03, -1.05176272e-03, -1.24167791e-02,  8.07110779e-03,\n",
       "         7.96769280e-03,  2.40299087e-02,  3.71447485e-03, -1.15453367e-04,\n",
       "         4.92547005e-02, -3.15254219e-02, -1.10915229e-02,  7.95905653e-04,\n",
       "        -1.83758680e-02,  2.00046785e-02,  9.84629383e-04,  1.93867981e-02,\n",
       "         2.25409809e-02,  2.24836147e-03,  4.23464784e-03,  5.64086363e-02,\n",
       "         2.33497061e-02, -1.87314395e-02, -8.62105098e-03,  2.65889540e-02,\n",
       "        -1.05799297e-02,  2.91583762e-02,  9.80659947e-03, -6.76939823e-03,\n",
       "         5.22445440e-02,  6.66240044e-03,  7.86663592e-03,  2.66830865e-02,\n",
       "         1.46752186e-02, -6.56920532e-03,  7.19962455e-03, -3.80565180e-03,\n",
       "         1.50154307e-02,  4.48515825e-02,  7.43431924e-03, -2.11686473e-02,\n",
       "         1.61456428e-02, -5.26765212e-02,  8.93955398e-03, -1.68020055e-02,\n",
       "        -8.72701593e-03, -4.63085547e-02, -5.35114342e-03,  1.23416167e-02,\n",
       "         1.17042437e-02,  5.26786083e-03,  2.85609439e-02,  2.26701656e-03,\n",
       "        -4.53217067e-02,  3.33809033e-02,  2.28391942e-02,  9.03762225e-03,\n",
       "        -1.19447522e-02, -1.47218360e-02, -1.34711200e-02, -3.54388282e-02,\n",
       "         4.51713800e-02, -2.35706270e-02, -1.45591507e-02,  1.05670001e-02,\n",
       "         2.26197727e-02, -6.23546727e-03, -5.28013632e-02, -3.07214186e-02,\n",
       "         8.10598081e-04, -6.33502938e-03, -1.87179400e-03,  7.70982951e-02,\n",
       "        -7.50697544e-03,  1.21101346e-02, -3.94118614e-02,  2.54240315e-02,\n",
       "         2.71509066e-02,  2.65577473e-02,  2.80897170e-02,  7.18821399e-03,\n",
       "         1.32341841e-02, -2.24709082e-02, -1.02123665e-02,  1.63853616e-02,\n",
       "         6.47271425e-03, -2.27258801e-02,  4.47176807e-02, -7.65572349e-03,\n",
       "         2.94588897e-02,  3.06369010e-02, -1.38544086e-02,  1.78468265e-02,\n",
       "         1.14357583e-02,  3.02426778e-02, -4.81965058e-02, -1.08771445e-02,\n",
       "        -2.58968351e-03, -7.60374824e-03, -3.25113954e-03, -8.60516075e-03,\n",
       "        -4.54966445e-03, -4.65729070e-04, -7.54329516e-03,  6.66226074e-02,\n",
       "        -1.04685716e-01, -1.26701165e-02,  2.94672232e-03, -1.74584575e-02,\n",
       "        -7.90368393e-03, -4.42067944e-02, -2.97285151e-02,  4.13948223e-02,\n",
       "        -3.35627086e-02, -2.32571587e-02,  1.06733525e-02,  4.55171876e-02,\n",
       "         2.68479660e-02,  1.36055751e-02, -3.50507125e-02,  2.30055917e-02,\n",
       "         9.16134939e-02,  5.99745288e-02, -2.30844952e-02,  5.44097722e-02,\n",
       "        -4.06663865e-03,  1.93822496e-02, -4.92540933e-02, -2.40473710e-02,\n",
       "         2.83119492e-02,  3.37821469e-02, -2.43736841e-02,  1.22593669e-02,\n",
       "        -4.56875749e-03, -2.77118627e-02,  2.06844304e-02, -4.28982005e-02,\n",
       "         3.22351195e-02,  5.45084625e-02, -2.04529427e-02,  1.62302498e-02,\n",
       "         7.54602160e-03, -2.10341625e-02, -1.97170451e-02, -2.37409417e-02,\n",
       "         3.95005243e-03,  9.31585766e-03,  2.60739215e-02, -1.89505506e-03,\n",
       "         9.75737348e-03, -3.31624039e-03, -2.14964915e-02,  1.90836973e-02,\n",
       "        -1.38261700e-02, -1.24583496e-02,  1.58143472e-02, -5.40696550e-03,\n",
       "         6.34248834e-03,  1.28692547e-02,  3.43649983e-02,  2.28652023e-02,\n",
       "         3.27092260e-02, -2.92666443e-02,  2.44342145e-02,  2.21293718e-02,\n",
       "        -2.36847643e-02, -2.64882594e-02, -1.44470576e-02,  3.71305346e-02,\n",
       "        -8.02746974e-03, -8.07765126e-03,  2.00023241e-02, -8.36277660e-03,\n",
       "        -1.06923051e-01,  2.41233632e-02,  1.45965116e-02,  5.90559505e-02,\n",
       "         3.58874835e-02, -9.88144986e-03, -3.64121012e-02,  4.79854876e-03,\n",
       "        -1.19278934e-02,  9.97234136e-03,  2.57198624e-02, -3.79226804e-02,\n",
       "        -4.31579836e-02,  3.10491724e-03, -1.96157508e-02,  1.57716125e-02,\n",
       "        -5.21985106e-02, -3.88779864e-02,  1.18391244e-02, -1.94462128e-02,\n",
       "         1.04660215e-02,  4.37754542e-02,  1.10417856e-02, -1.83044858e-02,\n",
       "        -3.66855860e-02,  1.96482595e-02, -7.29205310e-02, -4.79354570e-03,\n",
       "         1.02033524e-03,  2.24664435e-03,  7.96708651e-03,  8.95655155e-03,\n",
       "         1.99718643e-02, -3.88573110e-02, -1.04435487e-02, -2.34201048e-02,\n",
       "        -7.41180079e-03,  5.01527265e-03,  7.73339579e-03, -3.10517270e-02,\n",
       "        -3.71028446e-02,  9.69726034e-03, -3.65895629e-02, -4.80163656e-03,\n",
       "         4.75268885e-02, -5.16862199e-02,  2.64498033e-02, -1.64460577e-02,\n",
       "         3.87516432e-02, -1.29164802e-02,  1.83946732e-02,  3.69979516e-02,\n",
       "        -4.10803147e-02, -2.40276959e-02,  5.00607537e-03, -4.72481772e-02,\n",
       "        -2.73883110e-03, -1.15774134e-02,  5.92238549e-03, -4.60089855e-02,\n",
       "         1.39353881e-02,  5.30652433e-05,  2.32697148e-02, -7.12191034e-03,\n",
       "        -1.80835649e-01, -1.08445529e-03, -8.43463698e-04,  3.09299980e-03,\n",
       "        -1.89810414e-02, -2.65244935e-02, -3.47998142e-02,  8.00165534e-03,\n",
       "         3.01174205e-02, -2.11426262e-02,  1.29353888e-02, -2.72495300e-02,\n",
       "        -1.13433404e-02, -3.14716110e-03, -3.16662267e-02, -1.39424519e-03,\n",
       "        -4.65529226e-02,  1.83134787e-02,  2.15279926e-02, -1.44490171e-02,\n",
       "        -3.21005052e-03, -2.71646446e-03, -7.53622316e-03, -2.65845172e-02,\n",
       "        -2.59252973e-02, -3.15152034e-02, -8.08556937e-03,  1.08347861e-02,\n",
       "        -1.01363678e-02,  1.22826861e-03, -9.38914809e-03,  1.23432875e-02,\n",
       "         1.68230908e-03,  2.40754485e-02, -2.46718377e-02, -2.05101594e-02,\n",
       "         1.39257386e-02,  3.34404921e-03,  5.49226291e-02, -8.18424579e-03,\n",
       "         2.73219440e-02, -2.60804258e-02,  1.48731731e-02, -2.81532239e-02,\n",
       "         2.28354465e-02, -1.25428550e-02, -4.04230645e-03, -4.06169407e-02,\n",
       "         8.03134497e-03, -2.05622111e-02, -1.60063785e-02, -2.82645058e-02,\n",
       "        -9.02639516e-03,  1.38344904e-02, -5.33892773e-03,  3.65107208e-02,\n",
       "         6.47844281e-03, -3.67800146e-02, -1.13036297e-02,  1.25494767e-02,\n",
       "        -4.16554175e-02, -3.91953997e-02,  5.28058736e-03, -1.27066094e-02,\n",
       "         7.78117357e-03, -2.29799785e-02, -2.66522355e-03,  1.35377515e-02,\n",
       "        -5.03081195e-02,  9.08677932e-03,  1.50721325e-02, -2.35492215e-02,\n",
       "        -1.67366080e-02,  1.29969688e-02,  1.84124541e-02,  3.33820493e-03,\n",
       "        -2.81120464e-02, -2.47434508e-02, -3.17212683e-03,  3.42064612e-02,\n",
       "         9.67475958e-03,  8.99404734e-02, -2.72155600e-03,  3.25304084e-02],\n",
       "       dtype=float32)]"
      ]
     },
     "execution_count": 14,
     "metadata": {},
     "output_type": "execute_result"
    }
   ],
   "source": [
    "all_embeddings\n"
   ]
  },
  {
   "cell_type": "code",
   "execution_count": 15,
   "id": "b1f2a317",
   "metadata": {},
   "outputs": [
    {
     "data": {
      "text/plain": [
       "[Document(metadata={'page': 0, 'type': 'text'}, page_content='Annual Revenue Overview\\nThis document summarizes the revenue trends across Q1, Q2, and Q3. As illustrated in the chart\\nbelow, revenue grew steadily with the highest growth recorded in Q3.\\nQ1 showed a moderate increase in revenue as new product lines were introduced. Q2 outperformed\\nQ1 due to marketing campaigns. Q3 had exponential growth due to global expansion.'),\n",
       " Document(metadata={'page': 0, 'type': 'image', 'image_id': 'page_0_img_0'}, page_content='[Image: page_0_img_0]')]"
      ]
     },
     "execution_count": 15,
     "metadata": {},
     "output_type": "execute_result"
    }
   ],
   "source": [
    "\n",
    "all_docs"
   ]
  },
  {
   "cell_type": "code",
   "execution_count": 16,
   "id": "28b05516",
   "metadata": {},
   "outputs": [
    {
     "data": {
      "text/plain": [
       "array([[-0.00267246,  0.01282995, -0.05183139, ..., -0.00385086,\n",
       "         0.02977718, -0.00010684],\n",
       "       [ 0.01732344, -0.01327689, -0.0242703 , ...,  0.08994047,\n",
       "        -0.00272156,  0.03253041]], dtype=float32)"
      ]
     },
     "execution_count": 16,
     "metadata": {},
     "output_type": "execute_result"
    }
   ],
   "source": [
    "# Create unified FAISS vector store with CLIP embeddings\n",
    "embeddings_array = np.array(all_embeddings)\n",
    "embeddings_array\n"
   ]
  },
  {
   "cell_type": "code",
   "execution_count": 17,
   "id": "93781954",
   "metadata": {},
   "outputs": [
    {
     "data": {
      "text/plain": [
       "([Document(metadata={'page': 0, 'type': 'text'}, page_content='Annual Revenue Overview\\nThis document summarizes the revenue trends across Q1, Q2, and Q3. As illustrated in the chart\\nbelow, revenue grew steadily with the highest growth recorded in Q3.\\nQ1 showed a moderate increase in revenue as new product lines were introduced. Q2 outperformed\\nQ1 due to marketing campaigns. Q3 had exponential growth due to global expansion.'),\n",
       "  Document(metadata={'page': 0, 'type': 'image', 'image_id': 'page_0_img_0'}, page_content='[Image: page_0_img_0]')],\n",
       " array([[-0.00267246,  0.01282995, -0.05183139, ..., -0.00385086,\n",
       "          0.02977718, -0.00010684],\n",
       "        [ 0.01732344, -0.01327689, -0.0242703 , ...,  0.08994047,\n",
       "         -0.00272156,  0.03253041]], dtype=float32))"
      ]
     },
     "execution_count": 17,
     "metadata": {},
     "output_type": "execute_result"
    }
   ],
   "source": [
    "(all_docs,embeddings_array)"
   ]
  },
  {
   "cell_type": "code",
   "execution_count": 18,
   "id": "d9054a8e",
   "metadata": {},
   "outputs": [
    {
     "name": "stdout",
     "output_type": "stream",
     "text": [
      "Requirement already satisfied: faiss-cpu in c:\\users\\my\\anaconda3\\lib\\site-packages (1.11.0.post1)\n",
      "Requirement already satisfied: numpy<3.0,>=1.25.0 in c:\\users\\my\\anaconda3\\lib\\site-packages (from faiss-cpu) (1.26.4)\n",
      "Requirement already satisfied: packaging in c:\\users\\my\\anaconda3\\lib\\site-packages (from faiss-cpu) (24.2)\n",
      "Note: you may need to restart the kernel to use updated packages.\n"
     ]
    }
   ],
   "source": [
    "pip install faiss-cpu"
   ]
  },
  {
   "cell_type": "code",
   "execution_count": 19,
   "id": "370872d6",
   "metadata": {},
   "outputs": [
    {
     "name": "stderr",
     "output_type": "stream",
     "text": [
      "`embedding_function` is expected to be an Embeddings object, support for passing in a function will soon be removed.\n"
     ]
    },
    {
     "data": {
      "text/plain": [
       "<langchain_community.vectorstores.faiss.FAISS at 0x1a3f2977260>"
      ]
     },
     "execution_count": 19,
     "metadata": {},
     "output_type": "execute_result"
    }
   ],
   "source": [
    "# Create custom FAISS index since we have precomputed embeddings\n",
    "vector_store = FAISS.from_embeddings(\n",
    "    text_embeddings=[(doc.page_content, emb) for doc, emb in zip(all_docs, embeddings_array)],\n",
    "    embedding=None,  # We're using precomputed embeddings,we already have embeddings\n",
    "    metadatas=[doc.metadata for doc in all_docs]\n",
    ")\n",
    "vector_store"
   ]
  },
  {
   "cell_type": "code",
   "execution_count": 20,
   "id": "d3fa2052",
   "metadata": {},
   "outputs": [
    {
     "data": {
      "text/plain": [
       "genai.GenerativeModel(\n",
       "    model_name='models/gemini-1.5-flash',\n",
       "    generation_config={},\n",
       "    safety_settings={},\n",
       "    tools=None,\n",
       "    system_instruction=None,\n",
       "    cached_content=None\n",
       ")"
      ]
     },
     "execution_count": 20,
     "metadata": {},
     "output_type": "execute_result"
    }
   ],
   "source": [
    "import google.generativeai as genai\n",
    "genai.configure(api_key=os.environ[\"GEMINI_API_KEY\"])\n",
    "llm = genai.GenerativeModel(\"gemini-1.5-flash\")\n",
    "llm\n"
   ]
  },
  {
   "cell_type": "code",
   "execution_count": 22,
   "id": "d6f8da14",
   "metadata": {},
   "outputs": [],
   "source": [
    "# it is just like a simple retrieval function that uses CLIP embeddings for both text and images\n",
    "def retrieve_multimodal(query, k=5):\n",
    "    \"\"\"Unified retrieval using CLIP embeddings for both text and images.\"\"\"\n",
    "    # Embed query using CLIP\n",
    "    query_embedding = embed_text(query)\n",
    "    \n",
    "    # Search in unified vector store\n",
    "    results = vector_store.similarity_search_by_vector(\n",
    "        embedding=query_embedding,\n",
    "        k=k\n",
    "    )\n",
    "    \n",
    "    return results\n"
   ]
  },
  {
   "cell_type": "code",
   "execution_count": 23,
   "id": "dd3f93bc",
   "metadata": {},
   "outputs": [],
   "source": [
    "# here we are creating a message that can be used with GPT-4V or Gemini-1.5-Flash\n",
    "# This message will contain both text and images, formatted appropriately for multimodal models.\n",
    "def create_multimodal_message(query, retrieved_docs):\n",
    "    \"\"\"Create a message with both text and images for GPT-4V.\"\"\"\n",
    "    content = []\n",
    "    \n",
    "    # Add the query\n",
    "    content.append({\n",
    "        \"type\": \"text\",\n",
    "        \"text\": f\"Question: {query}\\n\\nContext:\\n\"\n",
    "    })\n",
    "    \n",
    "    # Separate text and image documents\n",
    "    text_docs = [doc for doc in retrieved_docs if doc.metadata.get(\"type\") == \"text\"]\n",
    "    image_docs = [doc for doc in retrieved_docs if doc.metadata.get(\"type\") == \"image\"]\n",
    "    \n",
    "    # Add text context\n",
    "    if text_docs:\n",
    "        text_context = \"\\n\\n\".join([\n",
    "            f\"[Page {doc.metadata['page']}]: {doc.page_content}\"\n",
    "            for doc in text_docs\n",
    "        ])\n",
    "        content.append({\n",
    "            \"type\": \"text\",\n",
    "            \"text\": f\"Text excerpts:\\n{text_context}\\n\"\n",
    "        })\n",
    "    \n",
    "    # Add images\n",
    "    for doc in image_docs:\n",
    "        image_id = doc.metadata.get(\"image_id\")\n",
    "        if image_id and image_id in image_data_store:\n",
    "            content.append({\n",
    "                \"type\": \"text\",\n",
    "                \"text\": f\"\\n[Image from page {doc.metadata['page']}]:\\n\"\n",
    "            })\n",
    "            content.append({\n",
    "                \"type\": \"image_url\",\n",
    "                \"image_url\": {\n",
    "                    \"url\": f\"data:image/png;base64,{image_data_store[image_id]}\"\n",
    "                }\n",
    "            })\n",
    "    \n",
    "    # Add instruction\n",
    "    content.append({\n",
    "        \"type\": \"text\",\n",
    "        \"text\": \"\\n\\nPlease answer the question based on the provided text and images.\"\n",
    "    })\n",
    "    \n",
    "    return HumanMessage(content=content)\n"
   ]
  },
  {
   "cell_type": "code",
   "execution_count": 25,
   "id": "809d2822",
   "metadata": {},
   "outputs": [],
   "source": [
    "# Convert LangChain human message to Gemini parts\n",
    "# This function extracts text and image parts from a LangChain human message\n",
    "# storing images as base64 for Gemini-1.5-Flash compatibility\n",
    "import base64\n",
    "\n",
    "def langchain_to_gemini_parts(human_message):\n",
    "    parts = []\n",
    "    for item in human_message.content:\n",
    "        if item[\"type\"] == \"text\":\n",
    "            parts.append(item[\"text\"])\n",
    "        elif item[\"type\"] == \"image_url\":\n",
    "            # Extract base64 part from data URI\n",
    "            b64_data = item[\"image_url\"][\"url\"].split(\",\")[1]\n",
    "            img_bytes = base64.b64decode(b64_data)\n",
    "            parts.append({\"mime_type\": \"image/png\", \"data\": img_bytes})\n",
    "    return parts\n"
   ]
  },
  {
   "cell_type": "code",
   "execution_count": 26,
   "id": "7519fb81",
   "metadata": {},
   "outputs": [],
   "source": [
    "def multimodal_pdf_rag_pipeline(query):\n",
    "    \"\"\"Main pipeline for multimodal RAG.\"\"\"\n",
    "    # Retrieve relevant documents\n",
    "    context_docs = retrieve_multimodal(query, k=5)\n",
    "    \n",
    "    # Create multimodal message (LangChain HumanMessage)\n",
    "    message = create_multimodal_message(query, context_docs)\n",
    "    \n",
    "    # Convert to Gemini format\n",
    "    gemini_input = langchain_to_gemini_parts(message)\n",
    "    \n",
    "    # Call Gemini\n",
    "    response = llm.generate_content(gemini_input)\n",
    "    \n",
    "    # Print retrieved context info\n",
    "    print(f\"\\nRetrieved {len(context_docs)} documents:\")\n",
    "    for doc in context_docs:\n",
    "        doc_type = doc.metadata.get(\"type\", \"unknown\")\n",
    "        page = doc.metadata.get(\"page\", \"?\")\n",
    "        if doc_type == \"text\":\n",
    "            preview = doc.page_content[:100] + \"...\" if len(doc.page_content) > 100 else doc.page_content\n",
    "            print(f\"  - Text from page {page}: {preview}\")\n",
    "        else:\n",
    "            print(f\"  - Image from page {page}\")\n",
    "    print(\"\\n\")\n",
    "    \n",
    "    return response.text\n"
   ]
  },
  {
   "cell_type": "code",
   "execution_count": 27,
   "id": "813a050a",
   "metadata": {},
   "outputs": [],
   "source": [
    "from IPython.core.interactiveshell import InteractiveShell\n",
    "InteractiveShell.ast_node_interactivity = \"all\"\n"
   ]
  },
  {
   "cell_type": "code",
   "execution_count": 28,
   "id": "ae38d156",
   "metadata": {},
   "outputs": [
    {
     "name": "stdout",
     "output_type": "stream",
     "text": [
      "Requirement already satisfied: grpcio in c:\\users\\my\\anaconda3\\lib\\site-packages (1.75.0)\n",
      "Requirement already satisfied: typing-extensions~=4.12 in c:\\users\\my\\anaconda3\\lib\\site-packages (from grpcio) (4.12.2)\n",
      "Note: you may need to restart the kernel to use updated packages.\n"
     ]
    }
   ],
   "source": [
    "pip install grpcio --upgrade\n"
   ]
  },
  {
   "cell_type": "code",
   "execution_count": 29,
   "id": "eb1cab7b",
   "metadata": {},
   "outputs": [
    {
     "name": "stdout",
     "output_type": "stream",
     "text": [
      "Requirement already satisfied: google-generativeai in c:\\users\\my\\anaconda3\\lib\\site-packages (0.8.5)\n",
      "Requirement already satisfied: google-ai-generativelanguage==0.6.15 in c:\\users\\my\\anaconda3\\lib\\site-packages (from google-generativeai) (0.6.15)\n",
      "Requirement already satisfied: google-api-core in c:\\users\\my\\anaconda3\\lib\\site-packages (from google-generativeai) (2.25.1)\n",
      "Requirement already satisfied: google-api-python-client in c:\\users\\my\\anaconda3\\lib\\site-packages (from google-generativeai) (2.160.0)\n",
      "Requirement already satisfied: google-auth>=2.15.0 in c:\\users\\my\\anaconda3\\lib\\site-packages (from google-generativeai) (2.40.3)\n",
      "Requirement already satisfied: protobuf in c:\\users\\my\\anaconda3\\lib\\site-packages (from google-generativeai) (5.29.5)\n",
      "Requirement already satisfied: pydantic in c:\\users\\my\\anaconda3\\lib\\site-packages (from google-generativeai) (2.9.1)\n",
      "Requirement already satisfied: tqdm in c:\\users\\my\\anaconda3\\lib\\site-packages (from google-generativeai) (4.66.4)\n",
      "Requirement already satisfied: typing-extensions in c:\\users\\my\\anaconda3\\lib\\site-packages (from google-generativeai) (4.12.2)\n",
      "Requirement already satisfied: proto-plus<2.0.0dev,>=1.22.3 in c:\\users\\my\\anaconda3\\lib\\site-packages (from google-ai-generativelanguage==0.6.15->google-generativeai) (1.26.0)\n",
      "Requirement already satisfied: googleapis-common-protos<2.0.0,>=1.56.2 in c:\\users\\my\\anaconda3\\lib\\site-packages (from google-api-core->google-generativeai) (1.66.0)\n",
      "Requirement already satisfied: requests<3.0.0,>=2.18.0 in c:\\users\\my\\anaconda3\\lib\\site-packages (from google-api-core->google-generativeai) (2.32.4)\n",
      "Requirement already satisfied: cachetools<6.0,>=2.0.0 in c:\\users\\my\\anaconda3\\lib\\site-packages (from google-auth>=2.15.0->google-generativeai) (5.3.3)\n",
      "Requirement already satisfied: pyasn1-modules>=0.2.1 in c:\\users\\my\\anaconda3\\lib\\site-packages (from google-auth>=2.15.0->google-generativeai) (0.2.8)\n",
      "Requirement already satisfied: rsa<5,>=3.1.4 in c:\\users\\my\\anaconda3\\lib\\site-packages (from google-auth>=2.15.0->google-generativeai) (4.9)\n",
      "Requirement already satisfied: httplib2<1.dev0,>=0.19.0 in c:\\users\\my\\anaconda3\\lib\\site-packages (from google-api-python-client->google-generativeai) (0.22.0)\n",
      "Requirement already satisfied: google-auth-httplib2<1.0.0,>=0.2.0 in c:\\users\\my\\anaconda3\\lib\\site-packages (from google-api-python-client->google-generativeai) (0.2.0)\n",
      "Requirement already satisfied: uritemplate<5,>=3.0.1 in c:\\users\\my\\anaconda3\\lib\\site-packages (from google-api-python-client->google-generativeai) (4.1.1)\n",
      "Requirement already satisfied: annotated-types>=0.6.0 in c:\\users\\my\\anaconda3\\lib\\site-packages (from pydantic->google-generativeai) (0.6.0)\n",
      "Requirement already satisfied: pydantic-core==2.23.3 in c:\\users\\my\\anaconda3\\lib\\site-packages (from pydantic->google-generativeai) (2.23.3)\n",
      "Requirement already satisfied: colorama in c:\\users\\my\\appdata\\roaming\\python\\python312\\site-packages (from tqdm->google-generativeai) (0.4.6)\n",
      "Requirement already satisfied: grpcio<2.0.0,>=1.33.2 in c:\\users\\my\\anaconda3\\lib\\site-packages (from google-api-core[grpc]!=2.0.*,!=2.1.*,!=2.10.*,!=2.2.*,!=2.3.*,!=2.4.*,!=2.5.*,!=2.6.*,!=2.7.*,!=2.8.*,!=2.9.*,<3.0.0dev,>=1.34.1->google-ai-generativelanguage==0.6.15->google-generativeai) (1.75.0)\n",
      "Requirement already satisfied: grpcio-status<2.0.0,>=1.33.2 in c:\\users\\my\\anaconda3\\lib\\site-packages (from google-api-core[grpc]!=2.0.*,!=2.1.*,!=2.10.*,!=2.2.*,!=2.3.*,!=2.4.*,!=2.5.*,!=2.6.*,!=2.7.*,!=2.8.*,!=2.9.*,<3.0.0dev,>=1.34.1->google-ai-generativelanguage==0.6.15->google-generativeai) (1.70.0)\n",
      "Requirement already satisfied: pyparsing!=3.0.0,!=3.0.1,!=3.0.2,!=3.0.3,<4,>=2.4.2 in c:\\users\\my\\anaconda3\\lib\\site-packages (from httplib2<1.dev0,>=0.19.0->google-api-python-client->google-generativeai) (3.0.9)\n",
      "Requirement already satisfied: pyasn1<0.5.0,>=0.4.6 in c:\\users\\my\\anaconda3\\lib\\site-packages (from pyasn1-modules>=0.2.1->google-auth>=2.15.0->google-generativeai) (0.4.8)\n",
      "Requirement already satisfied: charset_normalizer<4,>=2 in c:\\users\\my\\anaconda3\\lib\\site-packages (from requests<3.0.0,>=2.18.0->google-api-core->google-generativeai) (2.0.4)\n",
      "Requirement already satisfied: idna<4,>=2.5 in c:\\users\\my\\anaconda3\\lib\\site-packages (from requests<3.0.0,>=2.18.0->google-api-core->google-generativeai) (3.7)\n",
      "Requirement already satisfied: urllib3<3,>=1.21.1 in c:\\users\\my\\anaconda3\\lib\\site-packages (from requests<3.0.0,>=2.18.0->google-api-core->google-generativeai) (2.2.2)\n",
      "Requirement already satisfied: certifi>=2017.4.17 in c:\\users\\my\\anaconda3\\lib\\site-packages (from requests<3.0.0,>=2.18.0->google-api-core->google-generativeai) (2024.8.30)\n",
      "Note: you may need to restart the kernel to use updated packages.\n"
     ]
    }
   ],
   "source": [
    "pip install google-generativeai --upgrade\n"
   ]
  },
  {
   "cell_type": "code",
   "execution_count": 30,
   "id": "3b94c545",
   "metadata": {},
   "outputs": [
    {
     "name": "stdout",
     "output_type": "stream",
     "text": [
      "Requirement already satisfied: protobuf in c:\\users\\my\\anaconda3\\lib\\site-packages (5.29.5)\n",
      "Collecting protobuf\n",
      "  Using cached protobuf-6.32.1-cp310-abi3-win_amd64.whl.metadata (593 bytes)\n",
      "Using cached protobuf-6.32.1-cp310-abi3-win_amd64.whl (435 kB)\n",
      "Installing collected packages: protobuf\n",
      "  Attempting uninstall: protobuf\n",
      "    Found existing installation: protobuf 5.29.5\n",
      "    Uninstalling protobuf-5.29.5:\n",
      "      Successfully uninstalled protobuf-5.29.5\n",
      "Successfully installed protobuf-6.32.1\n",
      "Note: you may need to restart the kernel to use updated packages.\n"
     ]
    },
    {
     "name": "stderr",
     "output_type": "stream",
     "text": [
      "  WARNING: Failed to remove contents in a temporary directory 'C:\\Users\\my\\anaconda3\\Lib\\site-packages\\google\\~-pb'.\n",
      "  You can safely remove it manually.\n",
      "ERROR: pip's dependency resolver does not currently take into account all the packages that are installed. This behaviour is the source of the following dependency conflicts.\n",
      "googleapis-common-protos 1.66.0 requires protobuf!=3.20.0,!=3.20.1,!=4.21.1,!=4.21.2,!=4.21.3,!=4.21.4,!=4.21.5,<6.0.0.dev0,>=3.20.2, but you have protobuf 6.32.1 which is incompatible.\n",
      "google-ai-generativelanguage 0.6.15 requires protobuf!=4.21.0,!=4.21.1,!=4.21.2,!=4.21.3,!=4.21.4,!=4.21.5,<6.0.0dev,>=3.20.2, but you have protobuf 6.32.1 which is incompatible.\n",
      "grpcio-status 1.70.0 requires protobuf<6.0dev,>=5.26.1, but you have protobuf 6.32.1 which is incompatible.\n",
      "proto-plus 1.26.0 requires protobuf<6.0.0dev,>=3.19.0, but you have protobuf 6.32.1 which is incompatible.\n",
      "streamlit 1.32.0 requires packaging<24,>=16.8, but you have packaging 24.2 which is incompatible.\n",
      "streamlit 1.32.0 requires protobuf<5,>=3.20, but you have protobuf 6.32.1 which is incompatible.\n",
      "tensorboard 2.17.0 requires protobuf!=4.24.0,<5.0.0,>=3.19.6, but you have protobuf 6.32.1 which is incompatible.\n",
      "tensorflow-intel 2.17.0 requires protobuf!=4.21.0,!=4.21.1,!=4.21.2,!=4.21.3,!=4.21.4,!=4.21.5,<5.0.0dev,>=3.20.3, but you have protobuf 6.32.1 which is incompatible.\n"
     ]
    }
   ],
   "source": [
    "pip install protobuf --upgrade\n"
   ]
  },
  {
   "cell_type": "code",
   "execution_count": 31,
   "id": "f9170568",
   "metadata": {},
   "outputs": [
    {
     "name": "stdout",
     "output_type": "stream",
     "text": [
      "Requirement already satisfied: google-api-core in c:\\users\\my\\anaconda3\\lib\\site-packages (2.25.1)\n",
      "Requirement already satisfied: google-auth in c:\\users\\my\\anaconda3\\lib\\site-packages (2.40.3)\n",
      "Requirement already satisfied: google-cloud-core in c:\\users\\my\\anaconda3\\lib\\site-packages (2.4.3)\n",
      "Requirement already satisfied: googleapis-common-protos<2.0.0,>=1.56.2 in c:\\users\\my\\anaconda3\\lib\\site-packages (from google-api-core) (1.66.0)\n",
      "Requirement already satisfied: protobuf!=3.20.0,!=3.20.1,!=4.21.0,!=4.21.1,!=4.21.2,!=4.21.3,!=4.21.4,!=4.21.5,<7.0.0,>=3.19.5 in c:\\users\\my\\anaconda3\\lib\\site-packages (from google-api-core) (6.32.1)\n",
      "Requirement already satisfied: proto-plus<2.0.0,>=1.22.3 in c:\\users\\my\\anaconda3\\lib\\site-packages (from google-api-core) (1.26.0)\n",
      "Requirement already satisfied: requests<3.0.0,>=2.18.0 in c:\\users\\my\\anaconda3\\lib\\site-packages (from google-api-core) (2.32.4)\n",
      "Requirement already satisfied: cachetools<6.0,>=2.0.0 in c:\\users\\my\\anaconda3\\lib\\site-packages (from google-auth) (5.3.3)\n",
      "Requirement already satisfied: pyasn1-modules>=0.2.1 in c:\\users\\my\\anaconda3\\lib\\site-packages (from google-auth) (0.2.8)\n",
      "Requirement already satisfied: rsa<5,>=3.1.4 in c:\\users\\my\\anaconda3\\lib\\site-packages (from google-auth) (4.9)\n",
      "Collecting protobuf!=3.20.0,!=3.20.1,!=4.21.0,!=4.21.1,!=4.21.2,!=4.21.3,!=4.21.4,!=4.21.5,<7.0.0,>=3.19.5 (from google-api-core)\n",
      "  Using cached protobuf-5.29.5-cp310-abi3-win_amd64.whl.metadata (592 bytes)\n",
      "Requirement already satisfied: pyasn1<0.5.0,>=0.4.6 in c:\\users\\my\\anaconda3\\lib\\site-packages (from pyasn1-modules>=0.2.1->google-auth) (0.4.8)\n",
      "Requirement already satisfied: charset_normalizer<4,>=2 in c:\\users\\my\\anaconda3\\lib\\site-packages (from requests<3.0.0,>=2.18.0->google-api-core) (2.0.4)\n",
      "Requirement already satisfied: idna<4,>=2.5 in c:\\users\\my\\anaconda3\\lib\\site-packages (from requests<3.0.0,>=2.18.0->google-api-core) (3.7)\n",
      "Requirement already satisfied: urllib3<3,>=1.21.1 in c:\\users\\my\\anaconda3\\lib\\site-packages (from requests<3.0.0,>=2.18.0->google-api-core) (2.2.2)\n",
      "Requirement already satisfied: certifi>=2017.4.17 in c:\\users\\my\\anaconda3\\lib\\site-packages (from requests<3.0.0,>=2.18.0->google-api-core) (2024.8.30)\n",
      "Using cached protobuf-5.29.5-cp310-abi3-win_amd64.whl (434 kB)\n",
      "Installing collected packages: protobuf\n",
      "  Attempting uninstall: protobuf\n",
      "    Found existing installation: protobuf 6.32.1\n",
      "    Uninstalling protobuf-6.32.1:\n",
      "      Successfully uninstalled protobuf-6.32.1\n",
      "Successfully installed protobuf-5.29.5\n",
      "Note: you may need to restart the kernel to use updated packages.\n"
     ]
    },
    {
     "name": "stderr",
     "output_type": "stream",
     "text": [
      "ERROR: pip's dependency resolver does not currently take into account all the packages that are installed. This behaviour is the source of the following dependency conflicts.\n",
      "streamlit 1.32.0 requires packaging<24,>=16.8, but you have packaging 24.2 which is incompatible.\n",
      "streamlit 1.32.0 requires protobuf<5,>=3.20, but you have protobuf 5.29.5 which is incompatible.\n",
      "tensorboard 2.17.0 requires protobuf!=4.24.0,<5.0.0,>=3.19.6, but you have protobuf 5.29.5 which is incompatible.\n",
      "tensorflow-intel 2.17.0 requires protobuf!=4.21.0,!=4.21.1,!=4.21.2,!=4.21.3,!=4.21.4,!=4.21.5,<5.0.0dev,>=3.20.3, but you have protobuf 5.29.5 which is incompatible.\n"
     ]
    }
   ],
   "source": [
    "pip install google-api-core google-auth google-cloud-core --upgrade\n"
   ]
  },
  {
   "cell_type": "code",
   "execution_count": 32,
   "id": "77aae5e0",
   "metadata": {},
   "outputs": [
    {
     "name": "stdout",
     "output_type": "stream",
     "text": [
      "\n",
      "[1/1] Query: What does the chart on page 1 show about revenue trends?\n",
      "--------------------------------------------------\n",
      "\n",
      "Retrieved 2 documents:\n",
      "  - Text from page 0: Annual Revenue Overview\n",
      "This document summarizes the revenue trends across Q1, Q2, and Q3. As illust...\n",
      "  - Image from page 0\n",
      "\n",
      "\n",
      "Answer: The chart on page 0 shows a steady increase in revenue across three quarters (Q1, Q2, and Q3).  Revenue was lowest in Q1, increased in Q2, and saw the highest growth in Q3.\n",
      "\n",
      "======================================================================\n"
     ]
    }
   ],
   "source": [
    "if __name__ == \"__main__\":\n",
    "    # Example queries\n",
    "    queries = [\n",
    "        \"What does the chart on page 1 show about revenue trends?\"\n",
    "    ]\n",
    "for i, query in enumerate(queries, 1):\n",
    "    print(f\"\\n[{i}/{len(queries)}] Query: {query}\")\n",
    "    print(\"-\" * 50)\n",
    "    answer = multimodal_pdf_rag_pipeline(query)\n",
    "    print(f\"Answer: {answer}\")\n",
    "    print(\"=\" * 70)\n",
    "\n",
    "    \n"
   ]
  },
  {
   "cell_type": "code",
   "execution_count": 33,
   "id": "0e3812f1",
   "metadata": {},
   "outputs": [
    {
     "name": "stdout",
     "output_type": "stream",
     "text": [
      "\n",
      "[1/1] Query: Summarize the main findings from the document?\n",
      "--------------------------------------------------\n",
      "\n",
      "Retrieved 2 documents:\n",
      "  - Text from page 0: Annual Revenue Overview\n",
      "This document summarizes the revenue trends across Q1, Q2, and Q3. As illust...\n",
      "  - Image from page 0\n",
      "\n",
      "\n",
      "Answer: Revenue showed steady growth across Q1, Q2, and Q3, with the highest growth occurring in Q3.  Q1 saw moderate growth attributed to new product lines. Q2 exceeded Q1's performance due to successful marketing campaigns.  Q3 experienced exponential growth, driven by global expansion.\n",
      "\n",
      "======================================================================\n"
     ]
    }
   ],
   "source": [
    "if __name__ == \"__main__\":\n",
    "    # Example queries\n",
    "    queries = [\n",
    "        \"Summarize the main findings from the document?\"\n",
    "   ]\n",
    "for i, query in enumerate(queries, 1):\n",
    "    print(f\"\\n[{i}/{len(queries)}] Query: {query}\")\n",
    "    print(\"-\" * 50)\n",
    "    answer = multimodal_pdf_rag_pipeline(query)\n",
    "    print(f\"Answer: {answer}\")\n",
    "    print(\"=\" * 70)\n",
    "\n",
    "    \n"
   ]
  },
  {
   "cell_type": "code",
   "execution_count": 37,
   "id": "fa14553a",
   "metadata": {},
   "outputs": [
    {
     "name": "stdout",
     "output_type": "stream",
     "text": [
      "\n",
      "[1/1] Query: What visual elements are present in the document?\n",
      "--------------------------------------------------\n",
      "\n",
      "Retrieved 2 documents:\n",
      "  - Text from page 0: Annual Revenue Overview\n",
      "This document summarizes the revenue trends across Q1, Q2, and Q3. As illust...\n",
      "  - Image from page 0\n",
      "\n",
      "\n",
      "Answer: The document contains a bar chart.  The chart uses three vertically-oriented bars of different heights and colors to represent data: blue, green, and red.  The bars increase in height from left to right.\n",
      "\n",
      "======================================================================\n"
     ]
    }
   ],
   "source": [
    "if __name__ == \"__main__\":\n",
    "    # Example queries\n",
    "    queries = [\n",
    "        \n",
    "        \"What visual elements are present in the document?\"\n",
    "    ]\n",
    "for i, query in enumerate(queries, 1):\n",
    "    print(f\"\\n[{i}/{len(queries)}] Query: {query}\")\n",
    "    print(\"-\" * 50)\n",
    "    answer = multimodal_pdf_rag_pipeline(query)\n",
    "    print(f\"Answer: {answer}\")\n",
    "    print(\"=\" * 70)\n",
    "\n",
    "    \n"
   ]
  }
 ],
 "metadata": {
  "kernelspec": {
   "display_name": "base",
   "language": "python",
   "name": "python3"
  },
  "language_info": {
   "codemirror_mode": {
    "name": "ipython",
    "version": 3
   },
   "file_extension": ".py",
   "mimetype": "text/x-python",
   "name": "python",
   "nbconvert_exporter": "python",
   "pygments_lexer": "ipython3",
   "version": "3.12.4"
  }
 },
 "nbformat": 4,
 "nbformat_minor": 5
}
