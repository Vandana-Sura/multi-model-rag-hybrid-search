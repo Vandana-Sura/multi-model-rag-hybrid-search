{
 "cells": [
  {
   "cell_type": "markdown",
   "id": "5d0b07f2",
   "metadata": {},
   "source": [
    "Hybrid Search Using LangChain\n"
   ]
  },
  {
   "cell_type": "code",
   "execution_count": 1,
   "id": "856f91af",
   "metadata": {},
   "outputs": [],
   "source": [
    "!pip install --upgrade --quiet pinecone-text pinecone-notebooks\n"
   ]
  },
  {
   "cell_type": "code",
   "execution_count": 3,
   "id": "7cb80347",
   "metadata": {},
   "outputs": [],
   "source": [
    "from langchain_community.retrievers import PineconeHybridSearchRetriever # this class is going to do both the semantic search and syntatic search and also it have the sparse matrix and dense vector search"
   ]
  },
  {
   "cell_type": "code",
   "execution_count": 6,
   "id": "a40edc2b",
   "metadata": {},
   "outputs": [
    {
     "name": "stdout",
     "output_type": "stream",
     "text": [
      "Indexes: [{\n",
      "    \"name\": \"hybrid-search-langchain-pinecone\",\n",
      "    \"metric\": \"dotproduct\",\n",
      "    \"host\": \"hybrid-search-langchain-pinecone-ulryqfy.svc.aped-4627-b74a.pinecone.io\",\n",
      "    \"spec\": {\n",
      "        \"serverless\": {\n",
      "            \"cloud\": \"aws\",\n",
      "            \"region\": \"us-east-1\"\n",
      "        }\n",
      "    },\n",
      "    \"status\": {\n",
      "        \"ready\": true,\n",
      "        \"state\": \"Ready\"\n",
      "    },\n",
      "    \"vector_type\": \"dense\",\n",
      "    \"dimension\": 384,\n",
      "    \"deletion_protection\": \"disabled\",\n",
      "    \"tags\": null\n",
      "}]\n",
      "Connected to index: hybrid-search-langchain-pinecone\n"
     ]
    }
   ],
   "source": [
    "from pinecone import Pinecone\n",
    "\n",
    "# Initialize Pinecone\n",
    "pc = Pinecone(api_key=\"XXXXXXXXXXXXXXXXX\", environment=\"us-east-1\")\n",
    "\n",
    "index_name = \"hybrid-search-langchain-pinecone\"\n",
    "\n",
    "# List indexes\n",
    "indexes = pc.list_indexes()\n",
    "print(\"Indexes:\", indexes)\n",
    "\n",
    "# Check if the index exists\n",
    "if index_name not in [idx[\"name\"] for idx in indexes]:\n",
    "    # Only create the index if it doesn't exist\n",
    "    pc.create_index(\n",
    "        name=index_name,\n",
    "        dimension=384,\n",
    "        spec={\n",
    "            \"serverless\": {\n",
    "                \"cloud\": \"aws\",\n",
    "                \"region\": \"us-east-1\"\n",
    "            }\n",
    "        }\n",
    "    )\n",
    "\n",
    "# Connect to the index\n",
    "index = pc.Index(index_name)\n",
    "\n",
    "print(\"Connected to index:\", index_name)\n"
   ]
  },
  {
   "cell_type": "code",
   "execution_count": 7,
   "id": "94394256",
   "metadata": {},
   "outputs": [
    {
     "data": {
      "text/plain": [
       "<pinecone.db_data.index.Index at 0x227d76e5820>"
      ]
     },
     "execution_count": 7,
     "metadata": {},
     "output_type": "execute_result"
    }
   ],
   "source": [
    "index=pc.Index(index_name)\n",
    "index"
   ]
  },
  {
   "cell_type": "code",
   "execution_count": 8,
   "id": "f587331b",
   "metadata": {},
   "outputs": [
    {
     "name": "stdout",
     "output_type": "stream",
     "text": [
      "Requirement already satisfied: langchain_huggingface in c:\\users\\my\\anaconda3\\lib\\site-packages (0.3.1)\n",
      "Requirement already satisfied: langchain-core<1.0.0,>=0.3.70 in c:\\users\\my\\anaconda3\\lib\\site-packages (from langchain_huggingface) (0.3.74)\n",
      "Requirement already satisfied: tokenizers>=0.19.1 in c:\\users\\my\\anaconda3\\lib\\site-packages (from langchain_huggingface) (0.20.0)\n",
      "Requirement already satisfied: huggingface-hub>=0.33.4 in c:\\users\\my\\anaconda3\\lib\\site-packages (from langchain_huggingface) (0.34.4)\n",
      "Requirement already satisfied: filelock in c:\\users\\my\\anaconda3\\lib\\site-packages (from huggingface-hub>=0.33.4->langchain_huggingface) (3.13.1)\n",
      "Requirement already satisfied: fsspec>=2023.5.0 in c:\\users\\my\\anaconda3\\lib\\site-packages (from huggingface-hub>=0.33.4->langchain_huggingface) (2024.3.1)\n",
      "Requirement already satisfied: packaging>=20.9 in c:\\users\\my\\anaconda3\\lib\\site-packages (from huggingface-hub>=0.33.4->langchain_huggingface) (24.2)\n",
      "Requirement already satisfied: pyyaml>=5.1 in c:\\users\\my\\anaconda3\\lib\\site-packages (from huggingface-hub>=0.33.4->langchain_huggingface) (6.0.1)\n",
      "Requirement already satisfied: requests in c:\\users\\my\\anaconda3\\lib\\site-packages (from huggingface-hub>=0.33.4->langchain_huggingface) (2.32.4)\n",
      "Requirement already satisfied: tqdm>=4.42.1 in c:\\users\\my\\anaconda3\\lib\\site-packages (from huggingface-hub>=0.33.4->langchain_huggingface) (4.66.4)\n",
      "Requirement already satisfied: typing-extensions>=3.7.4.3 in c:\\users\\my\\anaconda3\\lib\\site-packages (from huggingface-hub>=0.33.4->langchain_huggingface) (4.12.2)\n",
      "Requirement already satisfied: langsmith>=0.3.45 in c:\\users\\my\\anaconda3\\lib\\site-packages (from langchain-core<1.0.0,>=0.3.70->langchain_huggingface) (0.4.13)\n",
      "Requirement already satisfied: tenacity!=8.4.0,<10.0.0,>=8.1.0 in c:\\users\\my\\anaconda3\\lib\\site-packages (from langchain-core<1.0.0,>=0.3.70->langchain_huggingface) (8.2.2)\n",
      "Requirement already satisfied: jsonpatch<2.0,>=1.33 in c:\\users\\my\\anaconda3\\lib\\site-packages (from langchain-core<1.0.0,>=0.3.70->langchain_huggingface) (1.33)\n",
      "Requirement already satisfied: pydantic>=2.7.4 in c:\\users\\my\\anaconda3\\lib\\site-packages (from langchain-core<1.0.0,>=0.3.70->langchain_huggingface) (2.9.1)\n",
      "Requirement already satisfied: jsonpointer>=1.9 in c:\\users\\my\\anaconda3\\lib\\site-packages (from jsonpatch<2.0,>=1.33->langchain-core<1.0.0,>=0.3.70->langchain_huggingface) (2.1)\n",
      "Requirement already satisfied: httpx<1,>=0.23.0 in c:\\users\\my\\anaconda3\\lib\\site-packages (from langsmith>=0.3.45->langchain-core<1.0.0,>=0.3.70->langchain_huggingface) (0.27.2)\n",
      "Requirement already satisfied: orjson>=3.9.14 in c:\\users\\my\\anaconda3\\lib\\site-packages (from langsmith>=0.3.45->langchain-core<1.0.0,>=0.3.70->langchain_huggingface) (3.10.7)\n",
      "Requirement already satisfied: requests-toolbelt>=1.0.0 in c:\\users\\my\\anaconda3\\lib\\site-packages (from langsmith>=0.3.45->langchain-core<1.0.0,>=0.3.70->langchain_huggingface) (1.0.0)\n",
      "Requirement already satisfied: zstandard>=0.23.0 in c:\\users\\my\\anaconda3\\lib\\site-packages (from langsmith>=0.3.45->langchain-core<1.0.0,>=0.3.70->langchain_huggingface) (0.23.0)\n",
      "Requirement already satisfied: annotated-types>=0.6.0 in c:\\users\\my\\anaconda3\\lib\\site-packages (from pydantic>=2.7.4->langchain-core<1.0.0,>=0.3.70->langchain_huggingface) (0.6.0)\n",
      "Requirement already satisfied: pydantic-core==2.23.3 in c:\\users\\my\\anaconda3\\lib\\site-packages (from pydantic>=2.7.4->langchain-core<1.0.0,>=0.3.70->langchain_huggingface) (2.23.3)\n",
      "Requirement already satisfied: charset_normalizer<4,>=2 in c:\\users\\my\\anaconda3\\lib\\site-packages (from requests->huggingface-hub>=0.33.4->langchain_huggingface) (2.0.4)\n",
      "Requirement already satisfied: idna<4,>=2.5 in c:\\users\\my\\anaconda3\\lib\\site-packages (from requests->huggingface-hub>=0.33.4->langchain_huggingface) (3.7)\n",
      "Requirement already satisfied: urllib3<3,>=1.21.1 in c:\\users\\my\\anaconda3\\lib\\site-packages (from requests->huggingface-hub>=0.33.4->langchain_huggingface) (2.2.2)\n",
      "Requirement already satisfied: certifi>=2017.4.17 in c:\\users\\my\\anaconda3\\lib\\site-packages (from requests->huggingface-hub>=0.33.4->langchain_huggingface) (2024.8.30)\n",
      "Requirement already satisfied: colorama in c:\\users\\my\\appdata\\roaming\\python\\python312\\site-packages (from tqdm>=4.42.1->huggingface-hub>=0.33.4->langchain_huggingface) (0.4.6)\n",
      "Requirement already satisfied: anyio in c:\\users\\my\\anaconda3\\lib\\site-packages (from httpx<1,>=0.23.0->langsmith>=0.3.45->langchain-core<1.0.0,>=0.3.70->langchain_huggingface) (4.2.0)\n",
      "Requirement already satisfied: httpcore==1.* in c:\\users\\my\\anaconda3\\lib\\site-packages (from httpx<1,>=0.23.0->langsmith>=0.3.45->langchain-core<1.0.0,>=0.3.70->langchain_huggingface) (1.0.5)\n",
      "Requirement already satisfied: sniffio in c:\\users\\my\\anaconda3\\lib\\site-packages (from httpx<1,>=0.23.0->langsmith>=0.3.45->langchain-core<1.0.0,>=0.3.70->langchain_huggingface) (1.3.0)\n",
      "Requirement already satisfied: h11<0.15,>=0.13 in c:\\users\\my\\anaconda3\\lib\\site-packages (from httpcore==1.*->httpx<1,>=0.23.0->langsmith>=0.3.45->langchain-core<1.0.0,>=0.3.70->langchain_huggingface) (0.14.0)\n",
      "Note: you may need to restart the kernel to use updated packages.\n"
     ]
    }
   ],
   "source": [
    "pip install langchain_huggingface"
   ]
  },
  {
   "cell_type": "code",
   "execution_count": 9,
   "id": "c94fc4f5",
   "metadata": {},
   "outputs": [
    {
     "name": "stdout",
     "output_type": "stream",
     "text": [
      "Requirement already satisfied: sentence-transformers in c:\\users\\my\\anaconda3\\lib\\site-packages (5.1.0)\n",
      "Requirement already satisfied: transformers<5.0.0,>=4.41.0 in c:\\users\\my\\anaconda3\\lib\\site-packages (from sentence-transformers) (4.45.1)\n",
      "Requirement already satisfied: tqdm in c:\\users\\my\\anaconda3\\lib\\site-packages (from sentence-transformers) (4.66.4)\n",
      "Requirement already satisfied: torch>=1.11.0 in c:\\users\\my\\anaconda3\\lib\\site-packages (from sentence-transformers) (2.4.0)\n",
      "Requirement already satisfied: scikit-learn in c:\\users\\my\\anaconda3\\lib\\site-packages (from sentence-transformers) (1.5.1)\n",
      "Requirement already satisfied: scipy in c:\\users\\my\\anaconda3\\lib\\site-packages (from sentence-transformers) (1.13.1)\n",
      "Requirement already satisfied: huggingface-hub>=0.20.0 in c:\\users\\my\\anaconda3\\lib\\site-packages (from sentence-transformers) (0.34.4)\n",
      "Requirement already satisfied: Pillow in c:\\users\\my\\anaconda3\\lib\\site-packages (from sentence-transformers) (10.3.0)\n",
      "Requirement already satisfied: typing_extensions>=4.5.0 in c:\\users\\my\\anaconda3\\lib\\site-packages (from sentence-transformers) (4.12.2)\n",
      "Requirement already satisfied: filelock in c:\\users\\my\\anaconda3\\lib\\site-packages (from huggingface-hub>=0.20.0->sentence-transformers) (3.13.1)\n",
      "Requirement already satisfied: fsspec>=2023.5.0 in c:\\users\\my\\anaconda3\\lib\\site-packages (from huggingface-hub>=0.20.0->sentence-transformers) (2024.3.1)\n",
      "Requirement already satisfied: packaging>=20.9 in c:\\users\\my\\anaconda3\\lib\\site-packages (from huggingface-hub>=0.20.0->sentence-transformers) (24.2)\n",
      "Requirement already satisfied: pyyaml>=5.1 in c:\\users\\my\\anaconda3\\lib\\site-packages (from huggingface-hub>=0.20.0->sentence-transformers) (6.0.1)\n",
      "Requirement already satisfied: requests in c:\\users\\my\\anaconda3\\lib\\site-packages (from huggingface-hub>=0.20.0->sentence-transformers) (2.32.4)\n",
      "Requirement already satisfied: sympy in c:\\users\\my\\anaconda3\\lib\\site-packages (from torch>=1.11.0->sentence-transformers) (1.12)\n",
      "Requirement already satisfied: networkx in c:\\users\\my\\anaconda3\\lib\\site-packages (from torch>=1.11.0->sentence-transformers) (3.2.1)\n",
      "Requirement already satisfied: jinja2 in c:\\users\\my\\anaconda3\\lib\\site-packages (from torch>=1.11.0->sentence-transformers) (3.1.4)\n",
      "Requirement already satisfied: setuptools in c:\\users\\my\\anaconda3\\lib\\site-packages (from torch>=1.11.0->sentence-transformers) (69.5.1)\n",
      "Requirement already satisfied: colorama in c:\\users\\my\\appdata\\roaming\\python\\python312\\site-packages (from tqdm->sentence-transformers) (0.4.6)\n",
      "Requirement already satisfied: numpy>=1.17 in c:\\users\\my\\anaconda3\\lib\\site-packages (from transformers<5.0.0,>=4.41.0->sentence-transformers) (1.26.4)\n",
      "Requirement already satisfied: regex!=2019.12.17 in c:\\users\\my\\anaconda3\\lib\\site-packages (from transformers<5.0.0,>=4.41.0->sentence-transformers) (2023.10.3)\n",
      "Requirement already satisfied: safetensors>=0.4.1 in c:\\users\\my\\anaconda3\\lib\\site-packages (from transformers<5.0.0,>=4.41.0->sentence-transformers) (0.4.5)\n",
      "Requirement already satisfied: tokenizers<0.21,>=0.20 in c:\\users\\my\\anaconda3\\lib\\site-packages (from transformers<5.0.0,>=4.41.0->sentence-transformers) (0.20.0)\n",
      "Requirement already satisfied: joblib>=1.2.0 in c:\\users\\my\\anaconda3\\lib\\site-packages (from scikit-learn->sentence-transformers) (1.4.2)\n",
      "Requirement already satisfied: threadpoolctl>=3.1.0 in c:\\users\\my\\anaconda3\\lib\\site-packages (from scikit-learn->sentence-transformers) (3.5.0)\n",
      "Requirement already satisfied: MarkupSafe>=2.0 in c:\\users\\my\\anaconda3\\lib\\site-packages (from jinja2->torch>=1.11.0->sentence-transformers) (2.1.3)\n",
      "Requirement already satisfied: charset_normalizer<4,>=2 in c:\\users\\my\\anaconda3\\lib\\site-packages (from requests->huggingface-hub>=0.20.0->sentence-transformers) (2.0.4)\n",
      "Requirement already satisfied: idna<4,>=2.5 in c:\\users\\my\\anaconda3\\lib\\site-packages (from requests->huggingface-hub>=0.20.0->sentence-transformers) (3.7)\n",
      "Requirement already satisfied: urllib3<3,>=1.21.1 in c:\\users\\my\\anaconda3\\lib\\site-packages (from requests->huggingface-hub>=0.20.0->sentence-transformers) (2.2.2)\n",
      "Requirement already satisfied: certifi>=2017.4.17 in c:\\users\\my\\anaconda3\\lib\\site-packages (from requests->huggingface-hub>=0.20.0->sentence-transformers) (2024.8.30)\n",
      "Requirement already satisfied: mpmath>=0.19 in c:\\users\\my\\anaconda3\\lib\\site-packages (from sympy->torch>=1.11.0->sentence-transformers) (1.3.0)\n",
      "Note: you may need to restart the kernel to use updated packages.\n"
     ]
    }
   ],
   "source": [
    "pip install sentence-transformers"
   ]
  },
  {
   "cell_type": "code",
   "execution_count": 10,
   "id": "40951634",
   "metadata": {},
   "outputs": [
    {
     "name": "stdout",
     "output_type": "stream",
     "text": [
      "Requirement already satisfied: setuptools in c:\\users\\my\\anaconda3\\lib\\site-packages (69.5.1)\n"
     ]
    }
   ],
   "source": [
    "# For standard Python users\n",
    "!pip install setuptools"
   ]
  },
  {
   "cell_type": "code",
   "execution_count": 11,
   "id": "7dd10fd0",
   "metadata": {},
   "outputs": [
    {
     "name": "stdout",
     "output_type": "stream",
     "text": [
      "WARNING:tensorflow:From c:\\Users\\my\\anaconda3\\Lib\\site-packages\\tf_keras\\src\\losses.py:2976: The name tf.losses.sparse_softmax_cross_entropy is deprecated. Please use tf.compat.v1.losses.sparse_softmax_cross_entropy instead.\n",
      "\n"
     ]
    },
    {
     "name": "stderr",
     "output_type": "stream",
     "text": [
      "c:\\Users\\my\\anaconda3\\Lib\\site-packages\\transformers\\tokenization_utils_base.py:1617: FutureWarning: `clean_up_tokenization_spaces` was not set. It will be set to `True` by default. This behavior will be deprecated in transformers v4.45, and will be then set to `False` by default. For more details check this issue: https://github.com/huggingface/transformers/issues/31884\n",
      "  warnings.warn(\n"
     ]
    },
    {
     "data": {
      "text/plain": [
       "HuggingFaceEmbeddings(model_name='all-MiniLM-L6-v2', cache_folder=None, model_kwargs={}, encode_kwargs={}, query_encode_kwargs={}, multi_process=False, show_progress=False)"
      ]
     },
     "execution_count": 11,
     "metadata": {},
     "output_type": "execute_result"
    }
   ],
   "source": [
    "## vector embedding and sparse matrix\n",
    "import os\n",
    "from dotenv import load_dotenv\n",
    "load_dotenv()\n",
    "os.environ[\"HF_Token\"]=os.getenv(\"HF_Token\") # this is the hugging face token which is used to access the hugging face model, you can get it from https://huggingface.co/settings/tokens\n",
    "\n",
    "from langchain_huggingface import HuggingFaceEmbeddings\n",
    "embeddings = HuggingFaceEmbeddings(\n",
    "    model_name=\"all-MiniLM-L6-v2\", # this is the sentence transformer model which will convert any text to 384 dimension vector\n",
    ")\n",
    "embeddings"
   ]
  },
  {
   "cell_type": "code",
   "execution_count": 12,
   "id": "b2736979",
   "metadata": {},
   "outputs": [
    {
     "data": {
      "text/plain": [
       "HuggingFaceEmbeddings(model_name='all-MiniLM-L6-v2', cache_folder=None, model_kwargs={}, encode_kwargs={}, query_encode_kwargs={}, multi_process=False, show_progress=False)"
      ]
     },
     "execution_count": 12,
     "metadata": {},
     "output_type": "execute_result"
    }
   ],
   "source": [
    "embeddings"
   ]
  },
  {
   "cell_type": "code",
   "execution_count": 13,
   "id": "0b788f7f",
   "metadata": {},
   "outputs": [
    {
     "name": "stdout",
     "output_type": "stream",
     "text": [
      "Requirement already satisfied: pinecone-text in c:\\users\\my\\anaconda3\\lib\\site-packages (0.11.0)\n",
      "Requirement already satisfied: mmh3<5.0.0,>=4.1.0 in c:\\users\\my\\anaconda3\\lib\\site-packages (from pinecone-text) (4.1.0)\n",
      "Requirement already satisfied: nltk<4.0.0,>=3.9.1 in c:\\users\\my\\anaconda3\\lib\\site-packages (from pinecone-text) (3.9.1)\n",
      "Requirement already satisfied: numpy>=1.21.5 in c:\\users\\my\\anaconda3\\lib\\site-packages (from pinecone-text) (1.26.4)\n",
      "Requirement already satisfied: python-dotenv<2.0.0,>=1.0.1 in c:\\users\\my\\anaconda3\\lib\\site-packages (from pinecone-text) (1.1.1)\n",
      "Requirement already satisfied: requests<3.0.0,>=2.25.0 in c:\\users\\my\\anaconda3\\lib\\site-packages (from pinecone-text) (2.32.4)\n",
      "Requirement already satisfied: types-requests<3.0.0,>=2.25.0 in c:\\users\\my\\anaconda3\\lib\\site-packages (from pinecone-text) (2.32.4.20250809)\n",
      "Requirement already satisfied: click in c:\\users\\my\\anaconda3\\lib\\site-packages (from nltk<4.0.0,>=3.9.1->pinecone-text) (8.1.7)\n",
      "Requirement already satisfied: joblib in c:\\users\\my\\anaconda3\\lib\\site-packages (from nltk<4.0.0,>=3.9.1->pinecone-text) (1.4.2)\n",
      "Requirement already satisfied: regex>=2021.8.3 in c:\\users\\my\\anaconda3\\lib\\site-packages (from nltk<4.0.0,>=3.9.1->pinecone-text) (2023.10.3)\n",
      "Requirement already satisfied: tqdm in c:\\users\\my\\anaconda3\\lib\\site-packages (from nltk<4.0.0,>=3.9.1->pinecone-text) (4.66.4)\n",
      "Requirement already satisfied: charset_normalizer<4,>=2 in c:\\users\\my\\anaconda3\\lib\\site-packages (from requests<3.0.0,>=2.25.0->pinecone-text) (2.0.4)\n",
      "Requirement already satisfied: idna<4,>=2.5 in c:\\users\\my\\anaconda3\\lib\\site-packages (from requests<3.0.0,>=2.25.0->pinecone-text) (3.7)\n",
      "Requirement already satisfied: urllib3<3,>=1.21.1 in c:\\users\\my\\anaconda3\\lib\\site-packages (from requests<3.0.0,>=2.25.0->pinecone-text) (2.2.2)\n",
      "Requirement already satisfied: certifi>=2017.4.17 in c:\\users\\my\\anaconda3\\lib\\site-packages (from requests<3.0.0,>=2.25.0->pinecone-text) (2024.8.30)\n",
      "Requirement already satisfied: colorama in c:\\users\\my\\appdata\\roaming\\python\\python312\\site-packages (from click->nltk<4.0.0,>=3.9.1->pinecone-text) (0.4.6)\n"
     ]
    }
   ],
   "source": [
    "!pip install pinecone-text"
   ]
  },
  {
   "cell_type": "code",
   "execution_count": 14,
   "id": "706f131c",
   "metadata": {},
   "outputs": [
    {
     "data": {
      "text/plain": [
       "<pinecone_text.sparse.bm25_encoder.BM25Encoder at 0x227f06478f0>"
      ]
     },
     "execution_count": 14,
     "metadata": {},
     "output_type": "execute_result"
    }
   ],
   "source": [
    "from pinecone_text.sparse import BM25Encoder  # this encoder uses the tfidf algorithm to convert the text to sparse vector\n",
    "bm25_encoder = BM25Encoder().default()  # this is the default encoder which will convert the text to sparse vector which is tfidf\n",
    "bm25_encoder"
   ]
  },
  {
   "cell_type": "code",
   "execution_count": 15,
   "id": "04d1d80b",
   "metadata": {},
   "outputs": [
    {
     "data": {
      "application/vnd.jupyter.widget-view+json": {
       "model_id": "60fe3341a4684fc698e2195ae30f7f0e",
       "version_major": 2,
       "version_minor": 0
      },
      "text/plain": [
       "  0%|          | 0/3 [00:00<?, ?it/s]"
      ]
     },
     "metadata": {},
     "output_type": "display_data"
    }
   ],
   "source": [
    "sentences=[\n",
    "    \"In 2023,I Visited Paris\",\n",
    "    \"In 2022,I Visited New York\",\n",
    "    \"In 2021,I Visited New Orleans\"\n",
    "\n",
    "]\n",
    "## tfidf values on these sentence\n",
    "bm25_encoder.fit(sentences)\n",
    "## store the values to a json file\n",
    "bm25_encoder.dump(\"bm25_values.json\")\n",
    "\n"
   ]
  },
  {
   "cell_type": "code",
   "execution_count": 16,
   "id": "2a302a19",
   "metadata": {},
   "outputs": [],
   "source": [
    "retriever=PineconeHybridSearchRetriever(embeddings=embeddings,sparse_encoder=bm25_encoder,index=index,top_k=3) # this retriever will do both the semantic search and syntatic search and also it have the sparse matrix and dense vector search"
   ]
  },
  {
   "cell_type": "code",
   "execution_count": 17,
   "id": "ad19edd6",
   "metadata": {},
   "outputs": [
    {
     "data": {
      "text/plain": [
       "PineconeHybridSearchRetriever(embeddings=HuggingFaceEmbeddings(model_name='all-MiniLM-L6-v2', cache_folder=None, model_kwargs={}, encode_kwargs={}, query_encode_kwargs={}, multi_process=False, show_progress=False), sparse_encoder=<pinecone_text.sparse.bm25_encoder.BM25Encoder object at 0x00000227F06478F0>, index=<pinecone.db_data.index.Index object at 0x00000227D76E5820>, top_k=3)"
      ]
     },
     "execution_count": 17,
     "metadata": {},
     "output_type": "execute_result"
    }
   ],
   "source": [
    "retriever # here the retriever is the data storage which will do both the semantic search and syntatic search and also it have the sparse matrix and dense vector search and it is like a datastore which will store the data and also it will do the search"
   ]
  },
  {
   "cell_type": "code",
   "execution_count": 18,
   "id": "52fa4383",
   "metadata": {},
   "outputs": [
    {
     "data": {
      "application/vnd.jupyter.widget-view+json": {
       "model_id": "b99f1341ee064d989f0407aac60e7c5b",
       "version_major": 2,
       "version_minor": 0
      },
      "text/plain": [
       "  0%|          | 0/1 [00:00<?, ?it/s]"
      ]
     },
     "metadata": {},
     "output_type": "display_data"
    }
   ],
   "source": [
    "retriever.add_texts(sentences) # this will add the sentences to the index and also it will do the sparse matrix and dense vector search "
   ]
  },
  {
   "cell_type": "code",
   "execution_count": 19,
   "id": "0a824290",
   "metadata": {},
   "outputs": [
    {
     "data": {
      "text/plain": [
       "[Document(metadata={'score': 0.485442907}, page_content='In 2023,I Visited Paris'),\n",
       " Document(metadata={'score': 0.374639153}, page_content='In 2022,I Visited New York'),\n",
       " Document(metadata={'score': 0.331566453}, page_content='In 2021,I Visited New Orleans')]"
      ]
     },
     "execution_count": 19,
     "metadata": {},
     "output_type": "execute_result"
    }
   ],
   "source": [
    "retriever.invoke(\"What City Did i Visit in 2023?\") # this will do the search and return the results based on the semantic search and syntatic search and also it will do the sparse matrix and dense vector search"
   ]
  },
  {
   "cell_type": "code",
   "execution_count": 20,
   "id": "c49afd8c",
   "metadata": {},
   "outputs": [
    {
     "data": {
      "text/plain": [
       "[Document(metadata={'score': 0.284371018}, page_content='In 2021,I Visited New Orleans'),\n",
       " Document(metadata={'score': 0.259336591}, page_content='In 2022,I Visited New York'),\n",
       " Document(metadata={'score': 0.236757725}, page_content='In 2023,I Visited Paris')]"
      ]
     },
     "execution_count": 20,
     "metadata": {},
     "output_type": "execute_result"
    }
   ],
   "source": [
    "retriever.invoke(\"What City Did i Visit in last?\")"
   ]
  },
  {
   "cell_type": "code",
   "execution_count": 21,
   "id": "0866d27c",
   "metadata": {},
   "outputs": [
    {
     "data": {
      "text/plain": [
       "[Document(metadata={'score': 0.290020108}, page_content='In 2021,I Visited New Orleans'),\n",
       " Document(metadata={'score': 0.251049638}, page_content='In 2022,I Visited New York'),\n",
       " Document(metadata={'score': 0.222349375}, page_content='In 2023,I Visited Paris')]"
      ]
     },
     "execution_count": 21,
     "metadata": {},
     "output_type": "execute_result"
    }
   ],
   "source": [
    "retriever.invoke(\"What City Did i Visit in recently?\") # this will do the search and return the results based on the semantic search and syntatic search and also it will do the sparse matrix and dense vector search"
   ]
  },
  {
   "cell_type": "code",
   "execution_count": 22,
   "id": "1807f595",
   "metadata": {},
   "outputs": [
    {
     "data": {
      "text/plain": [
       "[Document(metadata={'score': 0.252177835}, page_content='In 2021,I Visited New Orleans'),\n",
       " Document(metadata={'score': 0.246452466}, page_content='In 2022,I Visited New York'),\n",
       " Document(metadata={'score': 0.221383303}, page_content='In 2023,I Visited Paris')]"
      ]
     },
     "execution_count": 22,
     "metadata": {},
     "output_type": "execute_result"
    }
   ],
   "source": [
    "retriever.invoke(\"What City Did i Visit in first?\")"
   ]
  }
 ],
 "metadata": {
  "kernelspec": {
   "display_name": "base",
   "language": "python",
   "name": "python3"
  },
  "language_info": {
   "codemirror_mode": {
    "name": "ipython",
    "version": 3
   },
   "file_extension": ".py",
   "mimetype": "text/x-python",
   "name": "python",
   "nbconvert_exporter": "python",
   "pygments_lexer": "ipython3",
   "version": "3.12.4"
  }
 },
 "nbformat": 4,
 "nbformat_minor": 5
}
